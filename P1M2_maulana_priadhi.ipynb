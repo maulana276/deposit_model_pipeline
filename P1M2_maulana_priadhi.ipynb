{
 "cells": [
  {
   "cell_type": "markdown",
   "metadata": {},
   "source": [
    "# i. Perkenalan"
   ]
  },
  {
   "cell_type": "markdown",
   "metadata": {},
   "source": [
    "---\n",
    "Nama    : Maulana Muhamad Priadhi\n",
    "\n",
    "Batch   : HCK-007\n",
    "\n",
    "Membuat model supervised learning untuk memprediksi nasabah berlanganan deposito pada bank\n",
    "\n",
    "---"
   ]
  },
  {
   "cell_type": "markdown",
   "metadata": {},
   "source": [
    "## Objective:\n",
    "\n",
    "1. Membuat model untuk memprediksi nasabah yang akan berlangganan deposito dari data yang diberikan.\n",
    "\n",
    "2. Mampu memprediksi nasabah yang akan berlangganan deposito.\n",
    "\n",
    "3. Menganalisis hasil campaign yang telah dilakukan.\n",
    "\n",
    "4. Memberikan saran bisnis untuk marketing campaign selanjutnya."
   ]
  },
  {
   "cell_type": "markdown",
   "metadata": {},
   "source": [
    "## Conceptual Problem"
   ]
  },
  {
   "cell_type": "markdown",
   "metadata": {},
   "source": [
    "1. `**Jelaskan latar belakang adanya bagging dan cara kerja bagging !**`\n",
    "\n",
    "Bagging adalah teknik ensemble learning dalam machine learning yang digunakan untuk meningkatkan stabilitas dan kinerja model. Bagging digunakan untuk mengatasi overfitting. \n",
    "\n",
    "Cara kerja:\n",
    "\n",
    "- Mengambil sampel model secara acak dari Train-set. \n",
    "- Setiap sampel dilatih dengan model yang sama.\n",
    "- Setiap model akan memberikan hasil yang berbeda\n",
    "- Hasil dari setiap model akan diagregasi untuk menghasilkan hasil akhir yang terbaik\n",
    "\n",
    "2. `**Jelaskan perbedaan cara kerja algoritma Random Forest dengan algoritma boosting yang Anda pilih !**`\n",
    "\n",
    "Random Forest:\n",
    "\n",
    "Membuat model pohon independen secara paralel dan mengambil hasil akhir dari beberapa pohon independen dengan cara voting atau mayoritas suara yang terpilih.\n",
    "\n",
    "Boosting:\n",
    "\n",
    "Membuat model berurutan yang mengevaluasi error atau memberikan fokus lebih pada data yang sulit diolah dari hasil prediksi model sebelumnya hingga memberikan hasil akhir yang terbaik.\n",
    "\n",
    "3. `**Jelaskan apa yang dimaksud dengan Cross Validation !**`\n",
    "\n",
    "Teknik dalam machine learning yang digunakan untuk mengevaluasi kinerja model machine learning. Tujuannya adalah untuk mengukur performa model secara objektif. Dalam pelaksanaannya, data akan dibagi menjadi beberapa bagian dan melakukan pelatihan dan pengujian secara bergantian \n",
    "dan kemudian dilakukan penilaian dari hasil pengujian. Hal ini akan diulang sebanyak permintaan."
   ]
  },
  {
   "cell_type": "markdown",
   "metadata": {},
   "source": [
    "## Table Information"
   ]
  },
  {
   "cell_type": "markdown",
   "metadata": {},
   "source": [
    "1. Id : customer ID\n",
    "2. age : customer age\n",
    "3. job : customer occupation\n",
    "4. marital : marital status\n",
    "5. education : last education\n",
    "6. default : credit in default\n",
    "7. balance : average yearly balance (EUR)\n",
    "8. housing : housing loan\n",
    "9. loan : personal loan\n",
    "\n",
    "**related with the last contact of the current campaign**\n",
    "\n",
    "10. contact : contact communication type\n",
    "11. day : last contact day of the month\n",
    "12. month : last contact month of the year\n",
    "13. duration :last contact duration (in seconds)\n",
    "\n",
    "**other attributes**\n",
    "\n",
    "14. campaign : number of contacts performed during this campaign and for this client\n",
    "15. pdays : number of days passed after this client was last contacted from previous campaign\n",
    "16. previous : number of contacts performed before this campaign and for this client\n",
    "17. poutcome : outcome of the previous marketing campaign\n",
    "18. y : client subscribe a term deposit"
   ]
  },
  {
   "cell_type": "markdown",
   "metadata": {},
   "source": [
    "# ii. Import Libraries"
   ]
  },
  {
   "cell_type": "code",
   "execution_count": 1,
   "metadata": {},
   "outputs": [],
   "source": [
    "# data exploration\n",
    "import pandas as pd\n",
    "\n",
    "# komputasi array, statistics & plot\n",
    "import numpy as np\n",
    "import seaborn as sns\n",
    "import matplotlib.pyplot as plt\n",
    "from scipy import stats\n",
    "\n",
    "# preprocessing\n",
    "from phik import phik_matrix\n",
    "from sklearn.model_selection import train_test_split\n",
    "from sklearn.preprocessing import MinMaxScaler, OneHotEncoder, OrdinalEncoder\n",
    "from feature_engine.outliers import Winsorizer\n",
    "from sklearn.pipeline import Pipeline\n",
    "from sklearn.compose import ColumnTransformer\n",
    "\n",
    "# Pipeline\n",
    "from imblearn.under_sampling import RandomUnderSampler\n",
    "from imblearn.pipeline import Pipeline\n",
    "from sklearn.compose import ColumnTransformer\n",
    "\n",
    "# model training & evaluation\n",
    "from sklearn.tree import DecisionTreeClassifier\n",
    "from sklearn.ensemble import RandomForestClassifier\n",
    "from sklearn.neighbors import KNeighborsClassifier\n",
    "from sklearn.svm import SVC\n",
    "from sklearn.model_selection import RandomizedSearchCV\n",
    "from sklearn.metrics import classification_report, confusion_matrix, ConfusionMatrixDisplay, f1_score, accuracy_score, precision_score, recall_score\n",
    "from sklearn.model_selection import cross_val_score\n",
    "from sklearn.ensemble import AdaBoostClassifier\n",
    "\n",
    "# inference\n",
    "import pickle\n",
    "\n",
    "import warnings\n",
    "warnings.filterwarnings('ignore')"
   ]
  },
  {
   "cell_type": "markdown",
   "metadata": {},
   "source": [
    "# iii. Data Loading"
   ]
  },
  {
   "cell_type": "markdown",
   "metadata": {},
   "source": [
    "### Loading"
   ]
  },
  {
   "cell_type": "code",
   "execution_count": 2,
   "metadata": {},
   "outputs": [
    {
     "data": {
      "text/html": [
       "<div>\n",
       "<style scoped>\n",
       "    .dataframe tbody tr th:only-of-type {\n",
       "        vertical-align: middle;\n",
       "    }\n",
       "\n",
       "    .dataframe tbody tr th {\n",
       "        vertical-align: top;\n",
       "    }\n",
       "\n",
       "    .dataframe thead th {\n",
       "        text-align: right;\n",
       "    }\n",
       "</style>\n",
       "<table border=\"1\" class=\"dataframe\">\n",
       "  <thead>\n",
       "    <tr style=\"text-align: right;\">\n",
       "      <th></th>\n",
       "      <th>Id</th>\n",
       "      <th>age</th>\n",
       "      <th>job</th>\n",
       "      <th>marital</th>\n",
       "      <th>education</th>\n",
       "      <th>default</th>\n",
       "      <th>balance</th>\n",
       "      <th>housing</th>\n",
       "      <th>loan</th>\n",
       "      <th>contact</th>\n",
       "      <th>day</th>\n",
       "      <th>month</th>\n",
       "      <th>duration</th>\n",
       "      <th>campaign</th>\n",
       "      <th>pdays</th>\n",
       "      <th>previous</th>\n",
       "      <th>poutcome</th>\n",
       "      <th>y</th>\n",
       "    </tr>\n",
       "  </thead>\n",
       "  <tbody>\n",
       "    <tr>\n",
       "      <th>0</th>\n",
       "      <td>1001</td>\n",
       "      <td>999.0</td>\n",
       "      <td>management</td>\n",
       "      <td>married</td>\n",
       "      <td>tertiary</td>\n",
       "      <td>no</td>\n",
       "      <td>2143.0</td>\n",
       "      <td>yes</td>\n",
       "      <td>no</td>\n",
       "      <td>unknown</td>\n",
       "      <td>5</td>\n",
       "      <td>may</td>\n",
       "      <td>261</td>\n",
       "      <td>1</td>\n",
       "      <td>-1</td>\n",
       "      <td>0</td>\n",
       "      <td>unknown</td>\n",
       "      <td>no</td>\n",
       "    </tr>\n",
       "    <tr>\n",
       "      <th>1</th>\n",
       "      <td>1002</td>\n",
       "      <td>44.0</td>\n",
       "      <td>technician</td>\n",
       "      <td>single</td>\n",
       "      <td>secondary</td>\n",
       "      <td>no</td>\n",
       "      <td>29.0</td>\n",
       "      <td>yes</td>\n",
       "      <td>no</td>\n",
       "      <td>unknown</td>\n",
       "      <td>5</td>\n",
       "      <td>may</td>\n",
       "      <td>151</td>\n",
       "      <td>1</td>\n",
       "      <td>-1</td>\n",
       "      <td>0</td>\n",
       "      <td>unknown</td>\n",
       "      <td>no</td>\n",
       "    </tr>\n",
       "    <tr>\n",
       "      <th>2</th>\n",
       "      <td>1003</td>\n",
       "      <td>33.0</td>\n",
       "      <td>entrepreneur</td>\n",
       "      <td>married</td>\n",
       "      <td>secondary</td>\n",
       "      <td>no</td>\n",
       "      <td>2.0</td>\n",
       "      <td>yes</td>\n",
       "      <td>yes</td>\n",
       "      <td>unknown</td>\n",
       "      <td>5</td>\n",
       "      <td>may</td>\n",
       "      <td>76</td>\n",
       "      <td>1</td>\n",
       "      <td>-1</td>\n",
       "      <td>0</td>\n",
       "      <td>unknown</td>\n",
       "      <td>no</td>\n",
       "    </tr>\n",
       "    <tr>\n",
       "      <th>3</th>\n",
       "      <td>1004</td>\n",
       "      <td>47.0</td>\n",
       "      <td>blue-collar</td>\n",
       "      <td>married</td>\n",
       "      <td>unknown</td>\n",
       "      <td>no</td>\n",
       "      <td>1506.0</td>\n",
       "      <td>yes</td>\n",
       "      <td>no</td>\n",
       "      <td>unknown</td>\n",
       "      <td>5</td>\n",
       "      <td>may</td>\n",
       "      <td>92</td>\n",
       "      <td>1</td>\n",
       "      <td>-1</td>\n",
       "      <td>0</td>\n",
       "      <td>unknown</td>\n",
       "      <td>no</td>\n",
       "    </tr>\n",
       "    <tr>\n",
       "      <th>4</th>\n",
       "      <td>1005</td>\n",
       "      <td>33.0</td>\n",
       "      <td>unknown</td>\n",
       "      <td>single</td>\n",
       "      <td>unknown</td>\n",
       "      <td>no</td>\n",
       "      <td>1.0</td>\n",
       "      <td>no</td>\n",
       "      <td>no</td>\n",
       "      <td>unknown</td>\n",
       "      <td>5</td>\n",
       "      <td>may</td>\n",
       "      <td>198</td>\n",
       "      <td>1</td>\n",
       "      <td>-1</td>\n",
       "      <td>0</td>\n",
       "      <td>unknown</td>\n",
       "      <td>no</td>\n",
       "    </tr>\n",
       "  </tbody>\n",
       "</table>\n",
       "</div>"
      ],
      "text/plain": [
       "     Id    age           job  marital  education default  balance housing  \\\n",
       "0  1001  999.0    management  married   tertiary      no   2143.0     yes   \n",
       "1  1002   44.0    technician   single  secondary      no     29.0     yes   \n",
       "2  1003   33.0  entrepreneur  married  secondary      no      2.0     yes   \n",
       "3  1004   47.0   blue-collar  married    unknown      no   1506.0     yes   \n",
       "4  1005   33.0       unknown   single    unknown      no      1.0      no   \n",
       "\n",
       "  loan  contact  day month  duration  campaign  pdays  previous poutcome   y  \n",
       "0   no  unknown    5   may       261         1     -1         0  unknown  no  \n",
       "1   no  unknown    5   may       151         1     -1         0  unknown  no  \n",
       "2  yes  unknown    5   may        76         1     -1         0  unknown  no  \n",
       "3   no  unknown    5   may        92         1     -1         0  unknown  no  \n",
       "4   no  unknown    5   may       198         1     -1         0  unknown  no  "
      ]
     },
     "execution_count": 2,
     "metadata": {},
     "output_type": "execute_result"
    }
   ],
   "source": [
    "# loading csv data\n",
    "df = pd.read_csv('Predict-term-deposit.csv')\n",
    "\n",
    "df.head()"
   ]
  },
  {
   "cell_type": "markdown",
   "metadata": {},
   "source": [
    "### Overview"
   ]
  },
  {
   "cell_type": "code",
   "execution_count": 3,
   "metadata": {},
   "outputs": [
    {
     "data": {
      "text/plain": [
       "(45211, 18)"
      ]
     },
     "execution_count": 3,
     "metadata": {},
     "output_type": "execute_result"
    }
   ],
   "source": [
    "# melihat shape dataset\n",
    "df.shape"
   ]
  },
  {
   "cell_type": "code",
   "execution_count": 4,
   "metadata": {},
   "outputs": [
    {
     "data": {
      "text/plain": [
       "Index(['Id', 'age', 'job', 'marital', 'education', 'default', 'balance',\n",
       "       'housing', 'loan', 'contact', 'day', 'month', 'duration', 'campaign',\n",
       "       'pdays', 'previous', 'poutcome', 'y'],\n",
       "      dtype='object')"
      ]
     },
     "execution_count": 4,
     "metadata": {},
     "output_type": "execute_result"
    }
   ],
   "source": [
    "# melihat nama-nama kolom\n",
    "df.columns"
   ]
  },
  {
   "cell_type": "code",
   "execution_count": 5,
   "metadata": {},
   "outputs": [
    {
     "data": {
      "text/html": [
       "<div>\n",
       "<style scoped>\n",
       "    .dataframe tbody tr th:only-of-type {\n",
       "        vertical-align: middle;\n",
       "    }\n",
       "\n",
       "    .dataframe tbody tr th {\n",
       "        vertical-align: top;\n",
       "    }\n",
       "\n",
       "    .dataframe thead th {\n",
       "        text-align: right;\n",
       "    }\n",
       "</style>\n",
       "<table border=\"1\" class=\"dataframe\">\n",
       "  <thead>\n",
       "    <tr style=\"text-align: right;\">\n",
       "      <th></th>\n",
       "      <th>Id</th>\n",
       "      <th>age</th>\n",
       "      <th>balance</th>\n",
       "      <th>day</th>\n",
       "      <th>duration</th>\n",
       "      <th>campaign</th>\n",
       "      <th>pdays</th>\n",
       "      <th>previous</th>\n",
       "    </tr>\n",
       "  </thead>\n",
       "  <tbody>\n",
       "    <tr>\n",
       "      <th>count</th>\n",
       "      <td>45211.000000</td>\n",
       "      <td>45202.000000</td>\n",
       "      <td>45208.000000</td>\n",
       "      <td>45211.000000</td>\n",
       "      <td>45211.000000</td>\n",
       "      <td>45211.000000</td>\n",
       "      <td>45211.000000</td>\n",
       "      <td>45211.000000</td>\n",
       "    </tr>\n",
       "    <tr>\n",
       "      <th>mean</th>\n",
       "      <td>23606.000000</td>\n",
       "      <td>40.954714</td>\n",
       "      <td>1362.346620</td>\n",
       "      <td>15.806419</td>\n",
       "      <td>258.163080</td>\n",
       "      <td>2.763841</td>\n",
       "      <td>40.197828</td>\n",
       "      <td>0.580323</td>\n",
       "    </tr>\n",
       "    <tr>\n",
       "      <th>std</th>\n",
       "      <td>13051.435847</td>\n",
       "      <td>11.539144</td>\n",
       "      <td>3044.852387</td>\n",
       "      <td>8.322476</td>\n",
       "      <td>257.527812</td>\n",
       "      <td>3.098021</td>\n",
       "      <td>100.128746</td>\n",
       "      <td>2.303441</td>\n",
       "    </tr>\n",
       "    <tr>\n",
       "      <th>min</th>\n",
       "      <td>1001.000000</td>\n",
       "      <td>-1.000000</td>\n",
       "      <td>-8019.000000</td>\n",
       "      <td>1.000000</td>\n",
       "      <td>0.000000</td>\n",
       "      <td>1.000000</td>\n",
       "      <td>-1.000000</td>\n",
       "      <td>0.000000</td>\n",
       "    </tr>\n",
       "    <tr>\n",
       "      <th>25%</th>\n",
       "      <td>12303.500000</td>\n",
       "      <td>33.000000</td>\n",
       "      <td>72.000000</td>\n",
       "      <td>8.000000</td>\n",
       "      <td>103.000000</td>\n",
       "      <td>1.000000</td>\n",
       "      <td>-1.000000</td>\n",
       "      <td>0.000000</td>\n",
       "    </tr>\n",
       "    <tr>\n",
       "      <th>50%</th>\n",
       "      <td>23606.000000</td>\n",
       "      <td>39.000000</td>\n",
       "      <td>448.000000</td>\n",
       "      <td>16.000000</td>\n",
       "      <td>180.000000</td>\n",
       "      <td>2.000000</td>\n",
       "      <td>-1.000000</td>\n",
       "      <td>0.000000</td>\n",
       "    </tr>\n",
       "    <tr>\n",
       "      <th>75%</th>\n",
       "      <td>34908.500000</td>\n",
       "      <td>48.000000</td>\n",
       "      <td>1428.000000</td>\n",
       "      <td>21.000000</td>\n",
       "      <td>319.000000</td>\n",
       "      <td>3.000000</td>\n",
       "      <td>-1.000000</td>\n",
       "      <td>0.000000</td>\n",
       "    </tr>\n",
       "    <tr>\n",
       "      <th>max</th>\n",
       "      <td>46211.000000</td>\n",
       "      <td>999.000000</td>\n",
       "      <td>102127.000000</td>\n",
       "      <td>31.000000</td>\n",
       "      <td>4918.000000</td>\n",
       "      <td>63.000000</td>\n",
       "      <td>871.000000</td>\n",
       "      <td>275.000000</td>\n",
       "    </tr>\n",
       "  </tbody>\n",
       "</table>\n",
       "</div>"
      ],
      "text/plain": [
       "                 Id           age        balance           day      duration  \\\n",
       "count  45211.000000  45202.000000   45208.000000  45211.000000  45211.000000   \n",
       "mean   23606.000000     40.954714    1362.346620     15.806419    258.163080   \n",
       "std    13051.435847     11.539144    3044.852387      8.322476    257.527812   \n",
       "min     1001.000000     -1.000000   -8019.000000      1.000000      0.000000   \n",
       "25%    12303.500000     33.000000      72.000000      8.000000    103.000000   \n",
       "50%    23606.000000     39.000000     448.000000     16.000000    180.000000   \n",
       "75%    34908.500000     48.000000    1428.000000     21.000000    319.000000   \n",
       "max    46211.000000    999.000000  102127.000000     31.000000   4918.000000   \n",
       "\n",
       "           campaign         pdays      previous  \n",
       "count  45211.000000  45211.000000  45211.000000  \n",
       "mean       2.763841     40.197828      0.580323  \n",
       "std        3.098021    100.128746      2.303441  \n",
       "min        1.000000     -1.000000      0.000000  \n",
       "25%        1.000000     -1.000000      0.000000  \n",
       "50%        2.000000     -1.000000      0.000000  \n",
       "75%        3.000000     -1.000000      0.000000  \n",
       "max       63.000000    871.000000    275.000000  "
      ]
     },
     "execution_count": 5,
     "metadata": {},
     "output_type": "execute_result"
    }
   ],
   "source": [
    "# deskriptif statistik dari dataset\n",
    "df.describe()"
   ]
  },
  {
   "cell_type": "code",
   "execution_count": 6,
   "metadata": {},
   "outputs": [
    {
     "name": "stdout",
     "output_type": "stream",
     "text": [
      "<class 'pandas.core.frame.DataFrame'>\n",
      "RangeIndex: 45211 entries, 0 to 45210\n",
      "Data columns (total 18 columns):\n",
      " #   Column     Non-Null Count  Dtype  \n",
      "---  ------     --------------  -----  \n",
      " 0   Id         45211 non-null  int64  \n",
      " 1   age        45202 non-null  float64\n",
      " 2   job        45211 non-null  object \n",
      " 3   marital    45211 non-null  object \n",
      " 4   education  45211 non-null  object \n",
      " 5   default    45211 non-null  object \n",
      " 6   balance    45208 non-null  float64\n",
      " 7   housing    45211 non-null  object \n",
      " 8   loan       45211 non-null  object \n",
      " 9   contact    45211 non-null  object \n",
      " 10  day        45211 non-null  int64  \n",
      " 11  month      45211 non-null  object \n",
      " 12  duration   45211 non-null  int64  \n",
      " 13  campaign   45211 non-null  int64  \n",
      " 14  pdays      45211 non-null  int64  \n",
      " 15  previous   45211 non-null  int64  \n",
      " 16  poutcome   45211 non-null  object \n",
      " 17  y          45211 non-null  object \n",
      "dtypes: float64(2), int64(6), object(10)\n",
      "memory usage: 6.2+ MB\n"
     ]
    }
   ],
   "source": [
    "# informasi umum dari dataset\n",
    "df.info()"
   ]
  },
  {
   "cell_type": "code",
   "execution_count": 8,
   "metadata": {},
   "outputs": [
    {
     "data": {
      "text/plain": [
       "array(['tertiary', 'secondary', 'unknown', 'primary'], dtype=object)"
      ]
     },
     "execution_count": 8,
     "metadata": {},
     "output_type": "execute_result"
    }
   ],
   "source": [
    "df['education'].unique()"
   ]
  },
  {
   "cell_type": "code",
   "execution_count": 7,
   "metadata": {},
   "outputs": [
    {
     "data": {
      "text/plain": [
       "Id           0\n",
       "age          9\n",
       "job          0\n",
       "marital      0\n",
       "education    0\n",
       "default      0\n",
       "balance      3\n",
       "housing      0\n",
       "loan         0\n",
       "contact      0\n",
       "day          0\n",
       "month        0\n",
       "duration     0\n",
       "campaign     0\n",
       "pdays        0\n",
       "previous     0\n",
       "poutcome     0\n",
       "y            0\n",
       "dtype: int64"
      ]
     },
     "execution_count": 7,
     "metadata": {},
     "output_type": "execute_result"
    }
   ],
   "source": [
    "# cek missing value\n",
    "df.isnull().sum()"
   ]
  },
  {
   "cell_type": "code",
   "execution_count": 8,
   "metadata": {},
   "outputs": [
    {
     "data": {
      "text/plain": [
       "(0, 18)"
      ]
     },
     "execution_count": 8,
     "metadata": {},
     "output_type": "execute_result"
    }
   ],
   "source": [
    "# cek data duplikat\n",
    "df[df.duplicated()].shape"
   ]
  },
  {
   "cell_type": "code",
   "execution_count": 9,
   "metadata": {},
   "outputs": [
    {
     "data": {
      "text/plain": [
       "Index([0, 45203, 45204, 45205], dtype='int64')"
      ]
     },
     "execution_count": 9,
     "metadata": {},
     "output_type": "execute_result"
    }
   ],
   "source": [
    "# Menemukan indeks baris dengan umur 999 atau -1\n",
    "umur_aneh = df[(df['age'] == 999) | (df['age'] == -1)].index\n",
    "\n",
    "umur_aneh"
   ]
  },
  {
   "cell_type": "code",
   "execution_count": 10,
   "metadata": {},
   "outputs": [
    {
     "name": "stdout",
     "output_type": "stream",
     "text": [
      "job\n",
      "blue-collar      9732\n",
      "management       9458\n",
      "technician       7597\n",
      "admin.           5171\n",
      "services         4154\n",
      "retired          2264\n",
      "self-employed    1579\n",
      "entrepreneur     1487\n",
      "unemployed       1303\n",
      "housemaid        1240\n",
      "student           938\n",
      "unknown           288\n",
      "Name: count, dtype: int64\n",
      "------------------------------\n",
      "marital\n",
      "married     27214\n",
      "single      12790\n",
      "divorced     5207\n",
      "Name: count, dtype: int64\n",
      "------------------------------\n",
      "education\n",
      "secondary    23202\n",
      "tertiary     13301\n",
      "primary       6851\n",
      "unknown       1857\n",
      "Name: count, dtype: int64\n",
      "------------------------------\n",
      "default\n",
      "no     44396\n",
      "yes      815\n",
      "Name: count, dtype: int64\n",
      "------------------------------\n",
      "housing\n",
      "yes    25130\n",
      "no     20081\n",
      "Name: count, dtype: int64\n",
      "------------------------------\n",
      "loan\n",
      "no     37967\n",
      "yes     7244\n",
      "Name: count, dtype: int64\n",
      "------------------------------\n",
      "contact\n",
      "cellular     29285\n",
      "unknown      13020\n",
      "telephone     2906\n",
      "Name: count, dtype: int64\n",
      "------------------------------\n",
      "month\n",
      "may    13766\n",
      "jul     6895\n",
      "aug     6247\n",
      "jun     5341\n",
      "nov     3970\n",
      "apr     2932\n",
      "feb     2649\n",
      "jan     1403\n",
      "oct      738\n",
      "sep      579\n",
      "mar      477\n",
      "dec      214\n",
      "Name: count, dtype: int64\n",
      "------------------------------\n",
      "poutcome\n",
      "unknown    36959\n",
      "failure     4901\n",
      "other       1840\n",
      "success     1511\n",
      "Name: count, dtype: int64\n",
      "------------------------------\n",
      "y\n",
      "no     39922\n",
      "yes     5289\n",
      "Name: count, dtype: int64\n",
      "------------------------------\n"
     ]
    }
   ],
   "source": [
    "# melihat \n",
    "cat_col = df.select_dtypes(include=['object']).columns.tolist()\n",
    "\n",
    "for i in cat_col:\n",
    "    print(df[i].value_counts())\n",
    "    print('-'*30)"
   ]
  },
  {
   "cell_type": "code",
   "execution_count": 11,
   "metadata": {},
   "outputs": [
    {
     "data": {
      "text/plain": [
       "array(['may', 'jun', 'jul', 'aug', 'oct', 'nov', 'dec', 'jan', 'feb',\n",
       "       'mar', 'apr', 'sep'], dtype=object)"
      ]
     },
     "execution_count": 11,
     "metadata": {},
     "output_type": "execute_result"
    }
   ],
   "source": [
    "df['month'].unique()"
   ]
  },
  {
   "cell_type": "markdown",
   "metadata": {},
   "source": [
    "### Data Cleaning"
   ]
  },
  {
   "cell_type": "code",
   "execution_count": 12,
   "metadata": {},
   "outputs": [
    {
     "data": {
      "text/plain": [
       "Id           0\n",
       "age          0\n",
       "job          0\n",
       "marital      0\n",
       "education    0\n",
       "default      0\n",
       "balance      0\n",
       "housing      0\n",
       "loan         0\n",
       "contact      0\n",
       "day          0\n",
       "month        0\n",
       "duration     0\n",
       "campaign     0\n",
       "pdays        0\n",
       "previous     0\n",
       "poutcome     0\n",
       "y            0\n",
       "dtype: int64"
      ]
     },
     "execution_count": 12,
     "metadata": {},
     "output_type": "execute_result"
    }
   ],
   "source": [
    "df = df.dropna()\n",
    "\n",
    "df.isnull().sum()"
   ]
  },
  {
   "cell_type": "code",
   "execution_count": 13,
   "metadata": {},
   "outputs": [],
   "source": [
    "# mengubah target menjadi angka\n",
    "df['y'] = df['y'].replace({'yes': 1, 'no': 0})\n",
    "df['y'] = df['y'].astype('int64')"
   ]
  },
  {
   "cell_type": "code",
   "execution_count": 14,
   "metadata": {},
   "outputs": [
    {
     "name": "stdout",
     "output_type": "stream",
     "text": [
      "default 2\n",
      "housing 2\n",
      "loan 2\n"
     ]
    }
   ],
   "source": [
    "# mengubah kolom di bawah menjadi angka\n",
    "biner = ['default', 'housing', 'loan']\n",
    "for i in biner:\n",
    "    df[i] = df[i].replace({'yes': 1, 'no': 0})\n",
    "    print(i, df[i].nunique())"
   ]
  },
  {
   "cell_type": "code",
   "execution_count": 15,
   "metadata": {},
   "outputs": [
    {
     "name": "stdout",
     "output_type": "stream",
     "text": [
      "<class 'pandas.core.frame.DataFrame'>\n",
      "Index: 45200 entries, 0 to 45210\n",
      "Data columns (total 18 columns):\n",
      " #   Column     Non-Null Count  Dtype  \n",
      "---  ------     --------------  -----  \n",
      " 0   Id         45200 non-null  int64  \n",
      " 1   age        45200 non-null  float64\n",
      " 2   job        45200 non-null  object \n",
      " 3   marital    45200 non-null  object \n",
      " 4   education  45200 non-null  object \n",
      " 5   default    45200 non-null  int64  \n",
      " 6   balance    45200 non-null  float64\n",
      " 7   housing    45200 non-null  int64  \n",
      " 8   loan       45200 non-null  int64  \n",
      " 9   contact    45200 non-null  object \n",
      " 10  day        45200 non-null  int64  \n",
      " 11  month      45200 non-null  object \n",
      " 12  duration   45200 non-null  int64  \n",
      " 13  campaign   45200 non-null  int64  \n",
      " 14  pdays      45200 non-null  int64  \n",
      " 15  previous   45200 non-null  int64  \n",
      " 16  poutcome   45200 non-null  object \n",
      " 17  y          45200 non-null  int64  \n",
      "dtypes: float64(2), int64(10), object(6)\n",
      "memory usage: 6.6+ MB\n"
     ]
    }
   ],
   "source": [
    "# melihat perubahan misval dan dtype\n",
    "df.info()"
   ]
  },
  {
   "cell_type": "code",
   "execution_count": 16,
   "metadata": {},
   "outputs": [
    {
     "data": {
      "text/plain": [
       "array([999.,  44.,  33.,  47.,  35.,  28.,  41.,  29.,  53.,  58.,  57.,\n",
       "        51.,  45.,  60.,  56.,  32.,  25.,  40.,  39.,  52.,  46.,  36.,\n",
       "        49.,  59.,  37.,  50.,  54.,  55.,  48.,  31.,  43.,  42.,  30.,\n",
       "        27.,  34.,  38.,  23.,  26.,  61.,  22.,  24.,  21.,  20.,  66.,\n",
       "        62.,  83.,  75.,  67.,  70.,  65.,  68.,  64.,  69.,  72.,  71.,\n",
       "        19.,  76.,  85.,  63.,  90.,  82.,  73.,  74.,  78.,  80.,  94.,\n",
       "        79.,  77.,  86.,  95.,  81.,  18.,  89.,  84.,  87.,  92.,  93.,\n",
       "        88.,  -1.])"
      ]
     },
     "execution_count": 16,
     "metadata": {},
     "output_type": "execute_result"
    }
   ],
   "source": [
    "df['age'].unique()"
   ]
  },
  {
   "cell_type": "code",
   "execution_count": 17,
   "metadata": {},
   "outputs": [],
   "source": [
    "df.drop(umur_aneh, inplace=True)"
   ]
  },
  {
   "cell_type": "code",
   "execution_count": 18,
   "metadata": {},
   "outputs": [],
   "source": [
    "urutan_bulan = ['jan', 'feb', 'mar', 'apr', 'may', 'jun', 'jul', 'aug',  'sep', 'oct', 'nov', 'dec']\n",
    "df['month'] = pd.Categorical(df['month'], categories=urutan_bulan, ordered=True)"
   ]
  },
  {
   "cell_type": "code",
   "execution_count": 19,
   "metadata": {},
   "outputs": [
    {
     "data": {
      "text/plain": [
       "['may', 'jun', 'jul', 'aug', 'oct', ..., 'jan', 'feb', 'mar', 'apr', 'sep']\n",
       "Length: 12\n",
       "Categories (12, object): ['jan' < 'feb' < 'mar' < 'apr' ... 'sep' < 'oct' < 'nov' < 'dec']"
      ]
     },
     "execution_count": 19,
     "metadata": {},
     "output_type": "execute_result"
    }
   ],
   "source": [
    "df['month'].unique()"
   ]
  },
  {
   "cell_type": "code",
   "execution_count": 20,
   "metadata": {},
   "outputs": [],
   "source": [
    "# membuat copied file\n",
    "df_clean = df.copy()"
   ]
  },
  {
   "cell_type": "markdown",
   "metadata": {},
   "source": [
    "# iv. Exploratory Data Analysis (EDA)"
   ]
  },
  {
   "cell_type": "code",
   "execution_count": 21,
   "metadata": {},
   "outputs": [
    {
     "data": {
      "text/plain": [
       "Index(['Id', 'age', 'job', 'marital', 'education', 'default', 'balance',\n",
       "       'housing', 'loan', 'contact', 'day', 'month', 'duration', 'campaign',\n",
       "       'pdays', 'previous', 'poutcome', 'y'],\n",
       "      dtype='object')"
      ]
     },
     "execution_count": 21,
     "metadata": {},
     "output_type": "execute_result"
    }
   ],
   "source": [
    "df_clean.columns"
   ]
  },
  {
   "cell_type": "code",
   "execution_count": 22,
   "metadata": {},
   "outputs": [
    {
     "data": {
      "image/png": "[encoded data removed]",
      "text/plain": [
       "<Figure size 500x500 with 1 Axes>"
      ]
     },
     "metadata": {},
     "output_type": "display_data"
    }
   ],
   "source": [
    "# pie chart deposito\n",
    "\n",
    "deposit_pie = df_clean.groupby('y')['Id'].mean()\n",
    "\n",
    "# data untuk pie chart\n",
    "labels = deposit_pie.index\n",
    "sizes = deposit_pie.values\n",
    "\n",
    "# membuat plot\n",
    "plt.figure(figsize=(5, 5))\n",
    "plt.pie(sizes, labels=labels, autopct='%1.1f%%', startangle=140)\n",
    "plt.title('Persentase Deposito Nasabah')\n",
    "plt.axis('equal')  # memastikan pie chart berbentuk lingkaran\n",
    "\n",
    "# menampilkan pie chart\n",
    "plt.show()"
   ]
  },
  {
   "cell_type": "markdown",
   "metadata": {},
   "source": [
    "Pada data ini persentase nasabah yang berlangganan deposito 60.7%, 21.4% lebih banyak dari nasabah yang tidak berlangganan"
   ]
  },
  {
   "cell_type": "code",
   "execution_count": 23,
   "metadata": {},
   "outputs": [
    {
     "data": {
      "text/plain": [
       "<Axes: xlabel='month', ylabel='campaign'>"
      ]
     },
     "execution_count": 23,
     "metadata": {},
     "output_type": "execute_result"
    },
    {
     "data": {
      "image/png": "[encoded data removed]",
      "text/plain": [
       "<Figure size 640x480 with 1 Axes>"
      ]
     },
     "metadata": {},
     "output_type": "display_data"
    }
   ],
   "source": [
    "# scatter plot campaing-month\n",
    "sns.scatterplot(data=df_clean, y=\"campaign\", x=\"month\", hue=\"y\",palette=\"bright\")"
   ]
  },
  {
   "cell_type": "markdown",
   "metadata": {},
   "source": [
    "- Nasabah yang dihubungi lebih sedikit dalam promosi produk deposito lebih banyak yang berlangganan dibanding nasabah yang dihubungi lebih sering"
   ]
  },
  {
   "cell_type": "code",
   "execution_count": 24,
   "metadata": {},
   "outputs": [
    {
     "data": {
      "text/plain": [
       "<Axes: xlabel='marital', ylabel='age'>"
      ]
     },
     "execution_count": 24,
     "metadata": {},
     "output_type": "execute_result"
    },
    {
     "data": {
      "image/png": "[encoded data removed]",
      "text/plain": [
       "<Figure size 640x480 with 1 Axes>"
      ]
     },
     "metadata": {},
     "output_type": "display_data"
    }
   ],
   "source": [
    "# barplot status-age\n",
    "sns.barplot(data=df_clean, x=\"marital\", y=\"age\", hue=\"y\",palette=\"bright\")"
   ]
  },
  {
   "cell_type": "markdown",
   "metadata": {},
   "source": [
    "- Rata-rata umur nasabah memiliki rentang anatara 30 sampai 50 tahun\n",
    "- Nasabah dengan status cerai lebih banyak yang sudah berlangganan deposito, sedangkan nasabah dengan status single lebih banyak yang tidak berlangganan deposito"
   ]
  },
  {
   "cell_type": "code",
   "execution_count": 25,
   "metadata": {},
   "outputs": [
    {
     "data": {
      "image/png": "[encoded data removed]",
      "text/plain": [
       "<Figure size 1200x600 with 2 Axes>"
      ]
     },
     "metadata": {},
     "output_type": "display_data"
    }
   ],
   "source": [
    "plt.figure(figsize=(12, 6))\n",
    "\n",
    "# barplot education-balance\n",
    "plt.subplot(1,2,1)\n",
    "average_purchases = df_clean.groupby('education')['balance'].mean()\n",
    "plt.bar(average_purchases.index, average_purchases.values, alpha=0.5)\n",
    "plt.xlabel('education')\n",
    "plt.ylabel('balance')\n",
    "plt.title('Education on Balance')\n",
    "\n",
    "# same but with y hue\n",
    "plt.subplot(1,2,2)\n",
    "sns.barplot(data=df_clean, x=\"education\", y=\"balance\", hue=\"y\",palette=\"bright\")\n",
    "\n",
    "plt.show()"
   ]
  },
  {
   "cell_type": "markdown",
   "metadata": {},
   "source": [
    "- Nasabah  dengan latar pendidkan perguruan tinggi memiliki lebih banyak saldo di dalam akunnya, sedangkan dengan latar belakang sekolah menengah  memiliki saldo paling sedikit\n",
    "- Nasabah yang berlangganan produk deposito paling banyak terdapat pada nasabah dengan latar pendidikan yang tidak disebutkan dan dengan latar perguruan tinggi"
   ]
  },
  {
   "cell_type": "code",
   "execution_count": 26,
   "metadata": {},
   "outputs": [
    {
     "data": {
      "text/plain": [
       "Text(0.5, 1.0, 'Hasil Campaign Sebelumnya')"
      ]
     },
     "execution_count": 26,
     "metadata": {},
     "output_type": "execute_result"
    },
    {
     "data": {
      "image/png": "[encoded data removed]",
      "text/plain": [
       "<Figure size 640x480 with 1 Axes>"
      ]
     },
     "metadata": {},
     "output_type": "display_data"
    }
   ],
   "source": [
    "# last campaign outcome with y hue\n",
    "sns.barplot(data=df_clean, x=\"poutcome\", y=\"Id\", hue=\"y\",palette=\"bright\")\n",
    "plt.title('Hasil Campaign Sebelumnya')"
   ]
  },
  {
   "cell_type": "markdown",
   "metadata": {},
   "source": [
    "- Nasabah yang gagal berlangganan pada campaign sebelumnya, berhasil berlangganan pada campaign sekarang.\n",
    "- Nasabah yang bukan target pada campaign sebelumnya, berhasil berlangganan pada campaign sekarang.\n"
   ]
  },
  {
   "cell_type": "code",
   "execution_count": 27,
   "metadata": {},
   "outputs": [],
   "source": [
    "# memisahkan kolom numerik dan kategori\n",
    "numcol = ['age', 'balance', 'day', 'duration', 'campaign', 'pdays', 'previous']\n",
    "catcol = ['job', 'marital', 'education', 'default', 'housing', 'loan', 'contact']"
   ]
  },
  {
   "cell_type": "markdown",
   "metadata": {},
   "source": [
    "# v. Feature Engineering"
   ]
  },
  {
   "cell_type": "markdown",
   "metadata": {},
   "source": [
    "### Splitting Data"
   ]
  },
  {
   "cell_type": "code",
   "execution_count": 28,
   "metadata": {},
   "outputs": [
    {
     "name": "stdout",
     "output_type": "stream",
     "text": [
      "(31637, 16)\n",
      "(13559, 16)\n",
      "(31637,)\n",
      "(13559,)\n"
     ]
    }
   ],
   "source": [
    "# split data\n",
    "X = df.drop(['Id', 'y'], axis=1)\n",
    "y = df.y\n",
    "\n",
    "X_train, X_test, y_train, y_test = train_test_split(X, y, test_size=0.3, stratify=y, random_state=0)\n",
    "\n",
    "for i in [X_train, X_test, y_train, y_test]:\n",
    "    print(i.shape)"
   ]
  },
  {
   "cell_type": "code",
   "execution_count": 29,
   "metadata": {},
   "outputs": [],
   "source": [
    "# membuat variabel baru untuk data train numerical\n",
    "X_train_num = X_train[numcol]\n",
    "X_test_num = X_test[numcol]\n",
    "\n",
    "# membuat variabel baru untuk data train categorical\n",
    "X_train_cat = X_train[catcol]\n",
    "X_test_cat = X_test[catcol]"
   ]
  },
  {
   "cell_type": "code",
   "execution_count": 30,
   "metadata": {},
   "outputs": [],
   "source": [
    "# menggabungkan X train dan y train untuk dilakukan eda\n",
    "df_eda = pd.concat([X_train, y_train], axis=1)"
   ]
  },
  {
   "cell_type": "code",
   "execution_count": 31,
   "metadata": {},
   "outputs": [
    {
     "data": {
      "text/plain": [
       "y\n",
       "0    27937\n",
       "1     3700\n",
       "Name: count, dtype: int64"
      ]
     },
     "execution_count": 31,
     "metadata": {},
     "output_type": "execute_result"
    }
   ],
   "source": [
    "# menghitung perbandingan nilai target\n",
    "y_train.value_counts()"
   ]
  },
  {
   "cell_type": "markdown",
   "metadata": {},
   "source": [
    "## EDA Modeling"
   ]
  },
  {
   "cell_type": "markdown",
   "metadata": {},
   "source": [
    "### Handling Outliers"
   ]
  },
  {
   "cell_type": "code",
   "execution_count": 32,
   "metadata": {},
   "outputs": [
    {
     "name": "stdout",
     "output_type": "stream",
     "text": [
      "Skewness dari age adalah 0.6822737396920298\n",
      "Skewness dari balance adalah 8.829310580733582\n",
      "Skewness dari day adalah 0.09732987739174792\n",
      "Skewness dari duration adalah 3.2872486599775326\n",
      "Skewness dari campaign adalah 5.052206248806004\n",
      "Skewness dari pdays adalah 2.596675926186893\n",
      "Skewness dari previous adalah 48.45271540394893\n"
     ]
    }
   ],
   "source": [
    "# Cek distribusi data menggunakan skewness\n",
    "for i in X_train_num :\n",
    "    skew = X_train_num[i].skew()\n",
    "\n",
    "    print('Skewness dari', i ,'adalah', skew )"
   ]
  },
  {
   "cell_type": "code",
   "execution_count": 33,
   "metadata": {},
   "outputs": [
    {
     "name": "stdout",
     "output_type": "stream",
     "text": [
      "Presentase outlier dari age adalah 0.7617662863103328 %\n",
      "Presentase outlier dari balance adalah 5.433511394885735 %\n",
      "Presentase outlier dari day adalah 0.0 %\n",
      "Presentase outlier dari duration adalah 2.5950627429908018 %\n",
      "Presentase outlier dari campaign adalah 3.265164206467111 %\n",
      "Presentase outlier dari pdays adalah 18.06429181022221 %\n",
      "Presentase outlier dari previous adalah 18.06429181022221 %\n"
     ]
    }
   ],
   "source": [
    "# menghitung data outlier\n",
    "for i in X_train_num:\n",
    "    skew = X_train_num[i].skew()\n",
    "    if skew >0.5 and skew <= 1:\n",
    "\n",
    "        q1 = X_train_num[i].quantile(0.25)\n",
    "        q3 = X_train_num[i].quantile(0.75)\n",
    "        iqr = q3-q1\n",
    "\n",
    "        upper_boundary = q3 + (1.5*iqr)\n",
    "        lower_boundary = q1 - (1.5*iqr)\n",
    "\n",
    "    elif skew >1 :\n",
    "\n",
    "        q1 = X_train_num[i].quantile(0.25)\n",
    "        q3 = X_train_num[i].quantile(0.75)\n",
    "        iqr = q3-q1\n",
    "\n",
    "        upper_boundary = q3 + (3*iqr)\n",
    "        lower_boundary = q1 - (3*iqr)\n",
    "        \n",
    "\n",
    "\n",
    "\n",
    "    outlier = X_train_num[(X_train_num[i]>upper_boundary)|((X_train_num[i]<lower_boundary))]\n",
    "    persen_outlier = len(outlier)/len(X_train_num)*100\n",
    "\n",
    "    print('Presentase outlier dari', i ,'adalah', persen_outlier, '%')\n"
   ]
  },
  {
   "cell_type": "code",
   "execution_count": 34,
   "metadata": {},
   "outputs": [],
   "source": [
    "# # capping with winsorizer\n",
    "# outlier = ['balance', 'duration']\n",
    "# nonoutlier = ['age', 'day', 'campaign', 'pdays', 'previous']\n",
    "# wins = Winsorizer(capping_method='iqr', tail='both', fold=3, variables= outlier)\n",
    "\n",
    "# X_train_capped = wins.fit_transform(X_train_num[outlier])\n",
    "# X_test_capped = wins.transform(X_test_num[outlier])\n",
    "\n",
    "# X_train_capped = pd.concat([X_train_capped, X_train_num[nonoutlier]], axis=1)\n",
    "# X_test_capped = pd.concat([X_test_capped, X_train_num[nonoutlier]], axis=1)"
   ]
  },
  {
   "cell_type": "markdown",
   "metadata": {},
   "source": [
    "- Saya hanya akan melakukan capping pada kolom balance dan duration karena dikhawatirkan akan menghilangkan informasi yang penting jika kolom lainnya dilakukan capping"
   ]
  },
  {
   "cell_type": "markdown",
   "metadata": {},
   "source": [
    "### Scaling"
   ]
  },
  {
   "cell_type": "code",
   "execution_count": 35,
   "metadata": {},
   "outputs": [],
   "source": [
    "# # scaling with MinMaxScaler\n",
    "# scaler = MinMaxScaler()\n",
    "\n",
    "# X_train_scaled = scaler.fit_transform(X_train_capped)\n",
    "# X_test_scaled = scaler.fit_transform(X_test_capped)\n",
    "\n",
    "# X_train_scaled = pd.DataFrame(X_train_scaled)\n",
    "# X_test_scaled = pd.DataFrame(X_test_scaled)"
   ]
  },
  {
   "cell_type": "markdown",
   "metadata": {},
   "source": [
    "- Scaling menggunakan MinMaxScaler"
   ]
  },
  {
   "cell_type": "markdown",
   "metadata": {},
   "source": [
    "### Feature Selection"
   ]
  },
  {
   "cell_type": "code",
   "execution_count": 36,
   "metadata": {},
   "outputs": [],
   "source": [
    "# # menggabungkan kolom menjadi satu untuk cek korelasi\n",
    "# df_fs = pd.concat([X_train_scaled, X_train_cat, y_train], axis=1)"
   ]
  },
  {
   "cell_type": "markdown",
   "metadata": {},
   "source": [
    "#### Phik Matrix"
   ]
  },
  {
   "cell_type": "code",
   "execution_count": 37,
   "metadata": {},
   "outputs": [
    {
     "name": "stdout",
     "output_type": "stream",
     "text": [
      "interval columns not set, guessing: ['age', 'default', 'balance', 'housing', 'loan', 'day', 'duration', 'campaign', 'pdays', 'previous', 'y']\n"
     ]
    },
    {
     "data": {
      "text/plain": [
       "y            1.000000\n",
       "poutcome     0.468151\n",
       "duration     0.364937\n",
       "month        0.332569\n",
       "pdays        0.253883\n",
       "age          0.210952\n",
       "housing      0.209555\n",
       "job          0.169950\n",
       "education    0.109972\n",
       "loan         0.106411\n",
       "day          0.099709\n",
       "contact      0.091262\n",
       "campaign     0.066052\n",
       "balance      0.058881\n",
       "marital      0.038091\n",
       "default      0.028448\n",
       "previous     0.018639\n",
       "Name: y, dtype: float64"
      ]
     },
     "execution_count": 37,
     "metadata": {},
     "output_type": "execute_result"
    }
   ],
   "source": [
    "# Mendefinisi phik matrix dan kolom yang digunakan\n",
    "phik_matrix = df_eda.phik_matrix()\n",
    "\n",
    "# Memilih kolom target yang akan dibandingkan\n",
    "correlation_with_y = phik_matrix['y'].sort_values(ascending=False)\n",
    "\n",
    "correlation_with_y"
   ]
  },
  {
   "cell_type": "markdown",
   "metadata": {},
   "source": [
    "Dari hasil korelasi phik matrix, saya akan mengambil kolom yang akan digunakan untuk pembuatan model, yaitu\n",
    "\n",
    "    `poutcome, duration, balance, pdays, age, job, education, housing, loan`\n",
    "    \n",
    "Walaupun balance tidak memiliki korelasi yang tinggi, tapi menurut saya saldo pada akun nasabah merupakan pertimbangan yang penting dalam prediksi deposito nasabah."
   ]
  },
  {
   "cell_type": "markdown",
   "metadata": {},
   "source": [
    "## Pipeline"
   ]
  },
  {
   "cell_type": "code",
   "execution_count": 38,
   "metadata": {},
   "outputs": [],
   "source": [
    "# pipeline numerik 1 (scaling)\n",
    "num_pipeline = Pipeline([\n",
    "       ('scaler', MinMaxScaler())\n",
    "    ])\n",
    "\n",
    "num_pipeline1 = Pipeline([\n",
    "        ('outlier', Winsorizer(capping_method='iqr', tail='both', fold=1.5)),\n",
    "        ('scaler', MinMaxScaler())\n",
    "    ])\n",
    "\n",
    "num_tr = num_pipeline.fit_transform(X_train[['pdays', 'age']])\n",
    "\n",
    "num_tr1 = num_pipeline1.fit_transform(X_train[['duration', 'balance']])\n"
   ]
  },
  {
   "cell_type": "code",
   "execution_count": 39,
   "metadata": {},
   "outputs": [],
   "source": [
    "# pipeline kategorikal 1 (OHE)\n",
    "cat_pipeline = Pipeline([\n",
    "     ('encoder', OneHotEncoder())\n",
    "    ])\n",
    "\n",
    "# pipeline kategorikal 2 (Ord)\n",
    "cat_pipeline1 = Pipeline([\n",
    "     ('ordinal', OrdinalEncoder())\n",
    "    ])\n",
    "\n",
    "# pipeline kategorikal 3 (Pass)\n",
    "cat_pipeline2 = Pipeline([\n",
    "    ('passthrough', None)\n",
    "])\n",
    "\n",
    "cat_tr = cat_pipeline.fit_transform(X_train[['poutcome', 'job']])\n",
    "cat_tr_array = np.array(cat_tr)\n",
    "\n",
    "cat_tr1 = cat_pipeline1.fit_transform(X_train[['education']])\n",
    "cat_tr_array1 = np.array(cat_tr1)\n",
    "\n",
    "cat_tr2 = cat_pipeline1.fit_transform(X_train[['housing', 'loan']])\n",
    "cat_tr_array1 = np.array(cat_tr2)"
   ]
  },
  {
   "cell_type": "code",
   "execution_count": 40,
   "metadata": {},
   "outputs": [
    {
     "data": {
      "text/html": [
       "<style>#sk-container-id-1 {color: black;}#sk-container-id-1 pre{padding: 0;}#sk-container-id-1 div.sk-toggleable {background-color: white;}#sk-container-id-1 label.sk-toggleable__label {cursor: pointer;display: block;width: 100%;margin-bottom: 0;padding: 0.3em;box-sizing: border-box;text-align: center;}#sk-container-id-1 label.sk-toggleable__label-arrow:before {content: \"▸\";float: left;margin-right: 0.25em;color: #696969;}#sk-container-id-1 label.sk-toggleable__label-arrow:hover:before {color: black;}#sk-container-id-1 div.sk-estimator:hover label.sk-toggleable__label-arrow:before {color: black;}#sk-container-id-1 div.sk-toggleable__content {max-height: 0;max-width: 0;overflow: hidden;text-align: left;background-color: #f0f8ff;}#sk-container-id-1 div.sk-toggleable__content pre {margin: 0.2em;color: black;border-radius: 0.25em;background-color: #f0f8ff;}#sk-container-id-1 input.sk-toggleable__control:checked~div.sk-toggleable__content {max-height: 200px;max-width: 100%;overflow: auto;}#sk-container-id-1 input.sk-toggleable__control:checked~label.sk-toggleable__label-arrow:before {content: \"▾\";}#sk-container-id-1 div.sk-estimator input.sk-toggleable__control:checked~label.sk-toggleable__label {background-color: #d4ebff;}#sk-container-id-1 div.sk-label input.sk-toggleable__control:checked~label.sk-toggleable__label {background-color: #d4ebff;}#sk-container-id-1 input.sk-hidden--visually {border: 0;clip: rect(1px 1px 1px 1px);clip: rect(1px, 1px, 1px, 1px);height: 1px;margin: -1px;overflow: hidden;padding: 0;position: absolute;width: 1px;}#sk-container-id-1 div.sk-estimator {font-family: monospace;background-color: #f0f8ff;border: 1px dotted black;border-radius: 0.25em;box-sizing: border-box;margin-bottom: 0.5em;}#sk-container-id-1 div.sk-estimator:hover {background-color: #d4ebff;}#sk-container-id-1 div.sk-parallel-item::after {content: \"\";width: 100%;border-bottom: 1px solid gray;flex-grow: 1;}#sk-container-id-1 div.sk-label:hover label.sk-toggleable__label {background-color: #d4ebff;}#sk-container-id-1 div.sk-serial::before {content: \"\";position: absolute;border-left: 1px solid gray;box-sizing: border-box;top: 0;bottom: 0;left: 50%;z-index: 0;}#sk-container-id-1 div.sk-serial {display: flex;flex-direction: column;align-items: center;background-color: white;padding-right: 0.2em;padding-left: 0.2em;position: relative;}#sk-container-id-1 div.sk-item {position: relative;z-index: 1;}#sk-container-id-1 div.sk-parallel {display: flex;align-items: stretch;justify-content: center;background-color: white;position: relative;}#sk-container-id-1 div.sk-item::before, #sk-container-id-1 div.sk-parallel-item::before {content: \"\";position: absolute;border-left: 1px solid gray;box-sizing: border-box;top: 0;bottom: 0;left: 50%;z-index: -1;}#sk-container-id-1 div.sk-parallel-item {display: flex;flex-direction: column;z-index: 1;position: relative;background-color: white;}#sk-container-id-1 div.sk-parallel-item:first-child::after {align-self: flex-end;width: 50%;}#sk-container-id-1 div.sk-parallel-item:last-child::after {align-self: flex-start;width: 50%;}#sk-container-id-1 div.sk-parallel-item:only-child::after {width: 0;}#sk-container-id-1 div.sk-dashed-wrapped {border: 1px dashed gray;margin: 0 0.4em 0.5em 0.4em;box-sizing: border-box;padding-bottom: 0.4em;background-color: white;}#sk-container-id-1 div.sk-label label {font-family: monospace;font-weight: bold;display: inline-block;line-height: 1.2em;}#sk-container-id-1 div.sk-label-container {text-align: center;}#sk-container-id-1 div.sk-container {/* jupyter's `normalize.less` sets `[hidden] { display: none; }` but bootstrap.min.css set `[hidden] { display: none !important; }` so we also need the `!important` here to be able to override the default hidden behavior on the sphinx rendered scikit-learn.org. See: https://github.com/scikit-learn/scikit-learn/issues/21755 */display: inline-block !important;position: relative;}#sk-container-id-1 div.sk-text-repr-fallback {display: none;}</style><div id=\"sk-container-id-1\" class=\"sk-top-container\"><div class=\"sk-text-repr-fallback\"><pre>ColumnTransformer(transformers=[(&#x27;num&#x27;,\n",
       "                                 Pipeline(steps=[(&#x27;scaler&#x27;, MinMaxScaler())]),\n",
       "                                 [&#x27;pdays&#x27;, &#x27;age&#x27;]),\n",
       "                                (&#x27;num1&#x27;,\n",
       "                                 Pipeline(steps=[(&#x27;outlier&#x27;,\n",
       "                                                  Winsorizer(capping_method=&#x27;iqr&#x27;,\n",
       "                                                             fold=1.5,\n",
       "                                                             tail=&#x27;both&#x27;)),\n",
       "                                                 (&#x27;scaler&#x27;, MinMaxScaler())]),\n",
       "                                 [&#x27;duration&#x27;, &#x27;balance&#x27;]),\n",
       "                                (&#x27;cat&#x27;,\n",
       "                                 Pipeline(steps=[(&#x27;encoder&#x27;, OneHotEncoder())]),\n",
       "                                 [&#x27;poutcome&#x27;, &#x27;job&#x27;]),\n",
       "                                (&#x27;cat1&#x27;,\n",
       "                                 Pipeline(steps=[(&#x27;ordinal&#x27;,\n",
       "                                                  OrdinalEncoder())]),\n",
       "                                 [&#x27;education&#x27;]),\n",
       "                                (&#x27;cat2&#x27;,\n",
       "                                 Pipeline(steps=[(&#x27;passthrough&#x27;, None)]),\n",
       "                                 [&#x27;housing&#x27;, &#x27;loan&#x27;])])</pre><b>In a Jupyter environment, please rerun this cell to show the HTML representation or trust the notebook. <br />On GitHub, the HTML representation is unable to render, please try loading this page with nbviewer.org.</b></div><div class=\"sk-container\" hidden><div class=\"sk-item sk-dashed-wrapped\"><div class=\"sk-label-container\"><div class=\"sk-label sk-toggleable\"><input class=\"sk-toggleable__control sk-hidden--visually\" id=\"sk-estimator-id-1\" type=\"checkbox\" ><label for=\"sk-estimator-id-1\" class=\"sk-toggleable__label sk-toggleable__label-arrow\">ColumnTransformer</label><div class=\"sk-toggleable__content\"><pre>ColumnTransformer(transformers=[(&#x27;num&#x27;,\n",
       "                                 Pipeline(steps=[(&#x27;scaler&#x27;, MinMaxScaler())]),\n",
       "                                 [&#x27;pdays&#x27;, &#x27;age&#x27;]),\n",
       "                                (&#x27;num1&#x27;,\n",
       "                                 Pipeline(steps=[(&#x27;outlier&#x27;,\n",
       "                                                  Winsorizer(capping_method=&#x27;iqr&#x27;,\n",
       "                                                             fold=1.5,\n",
       "                                                             tail=&#x27;both&#x27;)),\n",
       "                                                 (&#x27;scaler&#x27;, MinMaxScaler())]),\n",
       "                                 [&#x27;duration&#x27;, &#x27;balance&#x27;]),\n",
       "                                (&#x27;cat&#x27;,\n",
       "                                 Pipeline(steps=[(&#x27;encoder&#x27;, OneHotEncoder())]),\n",
       "                                 [&#x27;poutcome&#x27;, &#x27;job&#x27;]),\n",
       "                                (&#x27;cat1&#x27;,\n",
       "                                 Pipeline(steps=[(&#x27;ordinal&#x27;,\n",
       "                                                  OrdinalEncoder())]),\n",
       "                                 [&#x27;education&#x27;]),\n",
       "                                (&#x27;cat2&#x27;,\n",
       "                                 Pipeline(steps=[(&#x27;passthrough&#x27;, None)]),\n",
       "                                 [&#x27;housing&#x27;, &#x27;loan&#x27;])])</pre></div></div></div><div class=\"sk-parallel\"><div class=\"sk-parallel-item\"><div class=\"sk-item\"><div class=\"sk-label-container\"><div class=\"sk-label sk-toggleable\"><input class=\"sk-toggleable__control sk-hidden--visually\" id=\"sk-estimator-id-2\" type=\"checkbox\" ><label for=\"sk-estimator-id-2\" class=\"sk-toggleable__label sk-toggleable__label-arrow\">num</label><div class=\"sk-toggleable__content\"><pre>[&#x27;pdays&#x27;, &#x27;age&#x27;]</pre></div></div></div><div class=\"sk-serial\"><div class=\"sk-item\"><div class=\"sk-serial\"><div class=\"sk-item\"><div class=\"sk-estimator sk-toggleable\"><input class=\"sk-toggleable__control sk-hidden--visually\" id=\"sk-estimator-id-3\" type=\"checkbox\" ><label for=\"sk-estimator-id-3\" class=\"sk-toggleable__label sk-toggleable__label-arrow\">MinMaxScaler</label><div class=\"sk-toggleable__content\"><pre>MinMaxScaler()</pre></div></div></div></div></div></div></div></div><div class=\"sk-parallel-item\"><div class=\"sk-item\"><div class=\"sk-label-container\"><div class=\"sk-label sk-toggleable\"><input class=\"sk-toggleable__control sk-hidden--visually\" id=\"sk-estimator-id-4\" type=\"checkbox\" ><label for=\"sk-estimator-id-4\" class=\"sk-toggleable__label sk-toggleable__label-arrow\">num1</label><div class=\"sk-toggleable__content\"><pre>[&#x27;duration&#x27;, &#x27;balance&#x27;]</pre></div></div></div><div class=\"sk-serial\"><div class=\"sk-item\"><div class=\"sk-serial\"><div class=\"sk-item\"><div class=\"sk-estimator sk-toggleable\"><input class=\"sk-toggleable__control sk-hidden--visually\" id=\"sk-estimator-id-5\" type=\"checkbox\" ><label for=\"sk-estimator-id-5\" class=\"sk-toggleable__label sk-toggleable__label-arrow\">Winsorizer</label><div class=\"sk-toggleable__content\"><pre>Winsorizer(capping_method=&#x27;iqr&#x27;, fold=1.5, tail=&#x27;both&#x27;)</pre></div></div></div><div class=\"sk-item\"><div class=\"sk-estimator sk-toggleable\"><input class=\"sk-toggleable__control sk-hidden--visually\" id=\"sk-estimator-id-6\" type=\"checkbox\" ><label for=\"sk-estimator-id-6\" class=\"sk-toggleable__label sk-toggleable__label-arrow\">MinMaxScaler</label><div class=\"sk-toggleable__content\"><pre>MinMaxScaler()</pre></div></div></div></div></div></div></div></div><div class=\"sk-parallel-item\"><div class=\"sk-item\"><div class=\"sk-label-container\"><div class=\"sk-label sk-toggleable\"><input class=\"sk-toggleable__control sk-hidden--visually\" id=\"sk-estimator-id-7\" type=\"checkbox\" ><label for=\"sk-estimator-id-7\" class=\"sk-toggleable__label sk-toggleable__label-arrow\">cat</label><div class=\"sk-toggleable__content\"><pre>[&#x27;poutcome&#x27;, &#x27;job&#x27;]</pre></div></div></div><div class=\"sk-serial\"><div class=\"sk-item\"><div class=\"sk-serial\"><div class=\"sk-item\"><div class=\"sk-estimator sk-toggleable\"><input class=\"sk-toggleable__control sk-hidden--visually\" id=\"sk-estimator-id-8\" type=\"checkbox\" ><label for=\"sk-estimator-id-8\" class=\"sk-toggleable__label sk-toggleable__label-arrow\">OneHotEncoder</label><div class=\"sk-toggleable__content\"><pre>OneHotEncoder()</pre></div></div></div></div></div></div></div></div><div class=\"sk-parallel-item\"><div class=\"sk-item\"><div class=\"sk-label-container\"><div class=\"sk-label sk-toggleable\"><input class=\"sk-toggleable__control sk-hidden--visually\" id=\"sk-estimator-id-9\" type=\"checkbox\" ><label for=\"sk-estimator-id-9\" class=\"sk-toggleable__label sk-toggleable__label-arrow\">cat1</label><div class=\"sk-toggleable__content\"><pre>[&#x27;education&#x27;]</pre></div></div></div><div class=\"sk-serial\"><div class=\"sk-item\"><div class=\"sk-serial\"><div class=\"sk-item\"><div class=\"sk-estimator sk-toggleable\"><input class=\"sk-toggleable__control sk-hidden--visually\" id=\"sk-estimator-id-10\" type=\"checkbox\" ><label for=\"sk-estimator-id-10\" class=\"sk-toggleable__label sk-toggleable__label-arrow\">OrdinalEncoder</label><div class=\"sk-toggleable__content\"><pre>OrdinalEncoder()</pre></div></div></div></div></div></div></div></div><div class=\"sk-parallel-item\"><div class=\"sk-item\"><div class=\"sk-label-container\"><div class=\"sk-label sk-toggleable\"><input class=\"sk-toggleable__control sk-hidden--visually\" id=\"sk-estimator-id-11\" type=\"checkbox\" ><label for=\"sk-estimator-id-11\" class=\"sk-toggleable__label sk-toggleable__label-arrow\">cat2</label><div class=\"sk-toggleable__content\"><pre>[&#x27;housing&#x27;, &#x27;loan&#x27;]</pre></div></div></div><div class=\"sk-serial\"><div class=\"sk-item\"><div class=\"sk-serial\"><div class=\"sk-item\"><div class=\"sk-estimator sk-toggleable\"><input class=\"sk-toggleable__control sk-hidden--visually\" id=\"sk-estimator-id-12\" type=\"checkbox\" ><label for=\"sk-estimator-id-12\" class=\"sk-toggleable__label sk-toggleable__label-arrow\">None</label><div class=\"sk-toggleable__content\"><pre>None</pre></div></div></div></div></div></div></div></div></div></div></div></div>"
      ],
      "text/plain": [
       "ColumnTransformer(transformers=[('num',\n",
       "                                 Pipeline(steps=[('scaler', MinMaxScaler())]),\n",
       "                                 ['pdays', 'age']),\n",
       "                                ('num1',\n",
       "                                 Pipeline(steps=[('outlier',\n",
       "                                                  Winsorizer(capping_method='iqr',\n",
       "                                                             fold=1.5,\n",
       "                                                             tail='both')),\n",
       "                                                 ('scaler', MinMaxScaler())]),\n",
       "                                 ['duration', 'balance']),\n",
       "                                ('cat',\n",
       "                                 Pipeline(steps=[('encoder', OneHotEncoder())]),\n",
       "                                 ['poutcome', 'job']),\n",
       "                                ('cat1',\n",
       "                                 Pipeline(steps=[('ordinal',\n",
       "                                                  OrdinalEncoder())]),\n",
       "                                 ['education']),\n",
       "                                ('cat2',\n",
       "                                 Pipeline(steps=[('passthrough', None)]),\n",
       "                                 ['housing', 'loan'])])"
      ]
     },
     "execution_count": 40,
     "metadata": {},
     "output_type": "execute_result"
    }
   ],
   "source": [
    "# menggabungkan \n",
    "full_pipeline = ColumnTransformer([\n",
    "        (\"num\", num_pipeline, ['pdays', 'age']),\n",
    "        (\"num1\", num_pipeline1, ['duration', 'balance']),\n",
    "        (\"cat\", cat_pipeline, ['poutcome', 'job']),\n",
    "        (\"cat1\", cat_pipeline1, ['education']),\n",
    "        (\"cat2\", cat_pipeline2, ['housing', 'loan'])\n",
    "    ])\n",
    "\n",
    "# Melihat hasil pipeline train\n",
    "X_train_finals = full_pipeline.fit_transform(X_train)\n",
    "X_train_finals\n",
    "\n",
    "\n",
    "X_test_finals = full_pipeline.transform(X_test)\n",
    "\n",
    "full_pipeline"
   ]
  },
  {
   "cell_type": "markdown",
   "metadata": {},
   "source": [
    "### SMOTE"
   ]
  },
  {
   "cell_type": "code",
   "execution_count": 41,
   "metadata": {},
   "outputs": [
    {
     "data": {
      "text/html": [
       "<div>\n",
       "<style scoped>\n",
       "    .dataframe tbody tr th:only-of-type {\n",
       "        vertical-align: middle;\n",
       "    }\n",
       "\n",
       "    .dataframe tbody tr th {\n",
       "        vertical-align: top;\n",
       "    }\n",
       "\n",
       "    .dataframe thead th {\n",
       "        text-align: right;\n",
       "    }\n",
       "</style>\n",
       "<table border=\"1\" class=\"dataframe\">\n",
       "  <thead>\n",
       "    <tr style=\"text-align: right;\">\n",
       "      <th></th>\n",
       "      <th>0</th>\n",
       "      <th>1</th>\n",
       "      <th>2</th>\n",
       "      <th>3</th>\n",
       "      <th>4</th>\n",
       "      <th>5</th>\n",
       "      <th>6</th>\n",
       "      <th>7</th>\n",
       "      <th>8</th>\n",
       "      <th>9</th>\n",
       "      <th>...</th>\n",
       "      <th>13</th>\n",
       "      <th>14</th>\n",
       "      <th>15</th>\n",
       "      <th>16</th>\n",
       "      <th>17</th>\n",
       "      <th>18</th>\n",
       "      <th>19</th>\n",
       "      <th>20</th>\n",
       "      <th>21</th>\n",
       "      <th>22</th>\n",
       "    </tr>\n",
       "  </thead>\n",
       "  <tbody>\n",
       "    <tr>\n",
       "      <th>0</th>\n",
       "      <td>0.000000</td>\n",
       "      <td>0.246753</td>\n",
       "      <td>0.149300</td>\n",
       "      <td>0.361900</td>\n",
       "      <td>0.0</td>\n",
       "      <td>0.0</td>\n",
       "      <td>0.0</td>\n",
       "      <td>1.0</td>\n",
       "      <td>0.0</td>\n",
       "      <td>0.0</td>\n",
       "      <td>...</td>\n",
       "      <td>0.0</td>\n",
       "      <td>0.0</td>\n",
       "      <td>0.0</td>\n",
       "      <td>0.0</td>\n",
       "      <td>0.0</td>\n",
       "      <td>0.0</td>\n",
       "      <td>0.0</td>\n",
       "      <td>2.0</td>\n",
       "      <td>0.0</td>\n",
       "      <td>0.0</td>\n",
       "    </tr>\n",
       "    <tr>\n",
       "      <th>1</th>\n",
       "      <td>0.377294</td>\n",
       "      <td>0.207792</td>\n",
       "      <td>0.220840</td>\n",
       "      <td>0.586439</td>\n",
       "      <td>1.0</td>\n",
       "      <td>0.0</td>\n",
       "      <td>0.0</td>\n",
       "      <td>0.0</td>\n",
       "      <td>0.0</td>\n",
       "      <td>1.0</td>\n",
       "      <td>...</td>\n",
       "      <td>0.0</td>\n",
       "      <td>0.0</td>\n",
       "      <td>0.0</td>\n",
       "      <td>0.0</td>\n",
       "      <td>0.0</td>\n",
       "      <td>0.0</td>\n",
       "      <td>0.0</td>\n",
       "      <td>0.0</td>\n",
       "      <td>1.0</td>\n",
       "      <td>0.0</td>\n",
       "    </tr>\n",
       "    <tr>\n",
       "      <th>2</th>\n",
       "      <td>0.000000</td>\n",
       "      <td>0.844156</td>\n",
       "      <td>0.311042</td>\n",
       "      <td>1.000000</td>\n",
       "      <td>0.0</td>\n",
       "      <td>0.0</td>\n",
       "      <td>0.0</td>\n",
       "      <td>1.0</td>\n",
       "      <td>0.0</td>\n",
       "      <td>0.0</td>\n",
       "      <td>...</td>\n",
       "      <td>0.0</td>\n",
       "      <td>0.0</td>\n",
       "      <td>0.0</td>\n",
       "      <td>0.0</td>\n",
       "      <td>0.0</td>\n",
       "      <td>0.0</td>\n",
       "      <td>0.0</td>\n",
       "      <td>0.0</td>\n",
       "      <td>0.0</td>\n",
       "      <td>0.0</td>\n",
       "    </tr>\n",
       "    <tr>\n",
       "      <th>3</th>\n",
       "      <td>0.000000</td>\n",
       "      <td>0.181818</td>\n",
       "      <td>0.209953</td>\n",
       "      <td>0.370941</td>\n",
       "      <td>0.0</td>\n",
       "      <td>0.0</td>\n",
       "      <td>0.0</td>\n",
       "      <td>1.0</td>\n",
       "      <td>0.0</td>\n",
       "      <td>1.0</td>\n",
       "      <td>...</td>\n",
       "      <td>0.0</td>\n",
       "      <td>0.0</td>\n",
       "      <td>0.0</td>\n",
       "      <td>0.0</td>\n",
       "      <td>0.0</td>\n",
       "      <td>0.0</td>\n",
       "      <td>0.0</td>\n",
       "      <td>1.0</td>\n",
       "      <td>1.0</td>\n",
       "      <td>0.0</td>\n",
       "    </tr>\n",
       "    <tr>\n",
       "      <th>4</th>\n",
       "      <td>0.000000</td>\n",
       "      <td>0.246753</td>\n",
       "      <td>0.208398</td>\n",
       "      <td>0.427030</td>\n",
       "      <td>0.0</td>\n",
       "      <td>0.0</td>\n",
       "      <td>0.0</td>\n",
       "      <td>1.0</td>\n",
       "      <td>0.0</td>\n",
       "      <td>0.0</td>\n",
       "      <td>...</td>\n",
       "      <td>0.0</td>\n",
       "      <td>1.0</td>\n",
       "      <td>0.0</td>\n",
       "      <td>0.0</td>\n",
       "      <td>0.0</td>\n",
       "      <td>0.0</td>\n",
       "      <td>0.0</td>\n",
       "      <td>2.0</td>\n",
       "      <td>1.0</td>\n",
       "      <td>1.0</td>\n",
       "    </tr>\n",
       "    <tr>\n",
       "      <th>...</th>\n",
       "      <td>...</td>\n",
       "      <td>...</td>\n",
       "      <td>...</td>\n",
       "      <td>...</td>\n",
       "      <td>...</td>\n",
       "      <td>...</td>\n",
       "      <td>...</td>\n",
       "      <td>...</td>\n",
       "      <td>...</td>\n",
       "      <td>...</td>\n",
       "      <td>...</td>\n",
       "      <td>...</td>\n",
       "      <td>...</td>\n",
       "      <td>...</td>\n",
       "      <td>...</td>\n",
       "      <td>...</td>\n",
       "      <td>...</td>\n",
       "      <td>...</td>\n",
       "      <td>...</td>\n",
       "      <td>...</td>\n",
       "      <td>...</td>\n",
       "    </tr>\n",
       "    <tr>\n",
       "      <th>7395</th>\n",
       "      <td>0.000000</td>\n",
       "      <td>0.545455</td>\n",
       "      <td>0.909798</td>\n",
       "      <td>0.244004</td>\n",
       "      <td>0.0</td>\n",
       "      <td>0.0</td>\n",
       "      <td>0.0</td>\n",
       "      <td>1.0</td>\n",
       "      <td>0.0</td>\n",
       "      <td>0.0</td>\n",
       "      <td>...</td>\n",
       "      <td>1.0</td>\n",
       "      <td>0.0</td>\n",
       "      <td>0.0</td>\n",
       "      <td>0.0</td>\n",
       "      <td>0.0</td>\n",
       "      <td>0.0</td>\n",
       "      <td>0.0</td>\n",
       "      <td>1.0</td>\n",
       "      <td>1.0</td>\n",
       "      <td>0.0</td>\n",
       "    </tr>\n",
       "    <tr>\n",
       "      <th>7396</th>\n",
       "      <td>0.321101</td>\n",
       "      <td>0.545455</td>\n",
       "      <td>0.269051</td>\n",
       "      <td>0.555074</td>\n",
       "      <td>0.0</td>\n",
       "      <td>0.0</td>\n",
       "      <td>1.0</td>\n",
       "      <td>0.0</td>\n",
       "      <td>0.0</td>\n",
       "      <td>0.0</td>\n",
       "      <td>...</td>\n",
       "      <td>0.0</td>\n",
       "      <td>0.0</td>\n",
       "      <td>0.0</td>\n",
       "      <td>0.0</td>\n",
       "      <td>0.0</td>\n",
       "      <td>1.0</td>\n",
       "      <td>0.0</td>\n",
       "      <td>1.0</td>\n",
       "      <td>0.0</td>\n",
       "      <td>0.0</td>\n",
       "    </tr>\n",
       "    <tr>\n",
       "      <th>7397</th>\n",
       "      <td>0.000000</td>\n",
       "      <td>0.298701</td>\n",
       "      <td>1.000000</td>\n",
       "      <td>0.958579</td>\n",
       "      <td>0.0</td>\n",
       "      <td>0.0</td>\n",
       "      <td>0.0</td>\n",
       "      <td>1.0</td>\n",
       "      <td>0.0</td>\n",
       "      <td>0.0</td>\n",
       "      <td>...</td>\n",
       "      <td>0.0</td>\n",
       "      <td>0.0</td>\n",
       "      <td>0.0</td>\n",
       "      <td>0.0</td>\n",
       "      <td>0.0</td>\n",
       "      <td>0.0</td>\n",
       "      <td>0.0</td>\n",
       "      <td>1.0</td>\n",
       "      <td>1.0</td>\n",
       "      <td>0.0</td>\n",
       "    </tr>\n",
       "    <tr>\n",
       "      <th>7398</th>\n",
       "      <td>0.000000</td>\n",
       "      <td>0.337662</td>\n",
       "      <td>0.640747</td>\n",
       "      <td>0.384225</td>\n",
       "      <td>0.0</td>\n",
       "      <td>0.0</td>\n",
       "      <td>0.0</td>\n",
       "      <td>1.0</td>\n",
       "      <td>0.0</td>\n",
       "      <td>0.0</td>\n",
       "      <td>...</td>\n",
       "      <td>0.0</td>\n",
       "      <td>0.0</td>\n",
       "      <td>0.0</td>\n",
       "      <td>0.0</td>\n",
       "      <td>0.0</td>\n",
       "      <td>0.0</td>\n",
       "      <td>0.0</td>\n",
       "      <td>2.0</td>\n",
       "      <td>0.0</td>\n",
       "      <td>0.0</td>\n",
       "    </tr>\n",
       "    <tr>\n",
       "      <th>7399</th>\n",
       "      <td>0.000000</td>\n",
       "      <td>0.220779</td>\n",
       "      <td>0.290824</td>\n",
       "      <td>0.361900</td>\n",
       "      <td>0.0</td>\n",
       "      <td>0.0</td>\n",
       "      <td>0.0</td>\n",
       "      <td>1.0</td>\n",
       "      <td>0.0</td>\n",
       "      <td>0.0</td>\n",
       "      <td>...</td>\n",
       "      <td>0.0</td>\n",
       "      <td>0.0</td>\n",
       "      <td>0.0</td>\n",
       "      <td>0.0</td>\n",
       "      <td>1.0</td>\n",
       "      <td>0.0</td>\n",
       "      <td>0.0</td>\n",
       "      <td>2.0</td>\n",
       "      <td>0.0</td>\n",
       "      <td>0.0</td>\n",
       "    </tr>\n",
       "  </tbody>\n",
       "</table>\n",
       "<p>7400 rows × 23 columns</p>\n",
       "</div>"
      ],
      "text/plain": [
       "            0         1         2         3    4    5    6    7    8    9   \\\n",
       "0     0.000000  0.246753  0.149300  0.361900  0.0  0.0  0.0  1.0  0.0  0.0   \n",
       "1     0.377294  0.207792  0.220840  0.586439  1.0  0.0  0.0  0.0  0.0  1.0   \n",
       "2     0.000000  0.844156  0.311042  1.000000  0.0  0.0  0.0  1.0  0.0  0.0   \n",
       "3     0.000000  0.181818  0.209953  0.370941  0.0  0.0  0.0  1.0  0.0  1.0   \n",
       "4     0.000000  0.246753  0.208398  0.427030  0.0  0.0  0.0  1.0  0.0  0.0   \n",
       "...        ...       ...       ...       ...  ...  ...  ...  ...  ...  ...   \n",
       "7395  0.000000  0.545455  0.909798  0.244004  0.0  0.0  0.0  1.0  0.0  0.0   \n",
       "7396  0.321101  0.545455  0.269051  0.555074  0.0  0.0  1.0  0.0  0.0  0.0   \n",
       "7397  0.000000  0.298701  1.000000  0.958579  0.0  0.0  0.0  1.0  0.0  0.0   \n",
       "7398  0.000000  0.337662  0.640747  0.384225  0.0  0.0  0.0  1.0  0.0  0.0   \n",
       "7399  0.000000  0.220779  0.290824  0.361900  0.0  0.0  0.0  1.0  0.0  0.0   \n",
       "\n",
       "      ...   13   14   15   16   17   18   19   20   21   22  \n",
       "0     ...  0.0  0.0  0.0  0.0  0.0  0.0  0.0  2.0  0.0  0.0  \n",
       "1     ...  0.0  0.0  0.0  0.0  0.0  0.0  0.0  0.0  1.0  0.0  \n",
       "2     ...  0.0  0.0  0.0  0.0  0.0  0.0  0.0  0.0  0.0  0.0  \n",
       "3     ...  0.0  0.0  0.0  0.0  0.0  0.0  0.0  1.0  1.0  0.0  \n",
       "4     ...  0.0  1.0  0.0  0.0  0.0  0.0  0.0  2.0  1.0  1.0  \n",
       "...   ...  ...  ...  ...  ...  ...  ...  ...  ...  ...  ...  \n",
       "7395  ...  1.0  0.0  0.0  0.0  0.0  0.0  0.0  1.0  1.0  0.0  \n",
       "7396  ...  0.0  0.0  0.0  0.0  0.0  1.0  0.0  1.0  0.0  0.0  \n",
       "7397  ...  0.0  0.0  0.0  0.0  0.0  0.0  0.0  1.0  1.0  0.0  \n",
       "7398  ...  0.0  0.0  0.0  0.0  0.0  0.0  0.0  2.0  0.0  0.0  \n",
       "7399  ...  0.0  0.0  0.0  0.0  1.0  0.0  0.0  2.0  0.0  0.0  \n",
       "\n",
       "[7400 rows x 23 columns]"
      ]
     },
     "execution_count": 41,
     "metadata": {},
     "output_type": "execute_result"
    }
   ],
   "source": [
    "# melakukan under sampling agar data  seimbang\n",
    "smote = RandomUnderSampler(sampling_strategy=1, random_state=4)\n",
    "X_train_balanced, y_train_balanced = smote.fit_resample(X_train_finals, y_train)\n",
    "y_train_balanced.value_counts()\n",
    "\n",
    "X_train_balanced = pd.DataFrame(X_train_balanced)\n",
    "y_train_balanced = pd.DataFrame(y_train_balanced)\n",
    "\n",
    "y_train_balanced.value_counts()\n",
    "\n",
    "X_train_balanced"
   ]
  },
  {
   "cell_type": "markdown",
   "metadata": {},
   "source": [
    "# vi. Model Definition"
   ]
  },
  {
   "cell_type": "code",
   "execution_count": 42,
   "metadata": {},
   "outputs": [],
   "source": [
    "# mendefinisikan model\n",
    "svm = SVC()\n",
    "knn = KNeighborsClassifier()\n",
    "rf = RandomForestClassifier()\n",
    "dt = DecisionTreeClassifier()\n",
    "ab = AdaBoostClassifier()"
   ]
  },
  {
   "cell_type": "markdown",
   "metadata": {},
   "source": [
    "# vii. Model Training"
   ]
  },
  {
   "cell_type": "markdown",
   "metadata": {},
   "source": [
    "## Baseline Model"
   ]
  },
  {
   "cell_type": "code",
   "execution_count": 43,
   "metadata": {},
   "outputs": [],
   "source": [
    "# merapikan dataframe untuk dilatih pada model\n",
    "X_train_balanced_new = np.ascontiguousarray(X_train_balanced)\n",
    "X_test_new = np.ascontiguousarray(X_test_finals)"
   ]
  },
  {
   "cell_type": "code",
   "execution_count": 44,
   "metadata": {},
   "outputs": [
    {
     "name": "stdout",
     "output_type": "stream",
     "text": [
      "Train-Set               precision    recall  f1-score   support\n",
      "\n",
      "           0       0.81      0.82      0.81      3700\n",
      "           1       0.81      0.81      0.81      3700\n",
      "\n",
      "    accuracy                           0.81      7400\n",
      "   macro avg       0.81      0.81      0.81      7400\n",
      "weighted avg       0.81      0.81      0.81      7400\n",
      "\n",
      "Test-Set               precision    recall  f1-score   support\n",
      "\n",
      "           0       0.97      0.81      0.88     11973\n",
      "           1       0.36      0.79      0.49      1586\n",
      "\n",
      "    accuracy                           0.81     13559\n",
      "   macro avg       0.66      0.80      0.69     13559\n",
      "weighted avg       0.90      0.81      0.84     13559\n",
      "\n"
     ]
    }
   ],
   "source": [
    "# training model svm\n",
    "svm.fit(X_train_balanced, y_train_balanced)\n",
    "\n",
    "svm_train = svm.predict(X_train_balanced)\n",
    "svm_test = svm.predict(X_test_finals)\n",
    "\n",
    "print('Train-Set', classification_report(y_train_balanced, svm_train))\n",
    "print('Test-Set', classification_report(y_test, svm_test))"
   ]
  },
  {
   "cell_type": "code",
   "execution_count": 45,
   "metadata": {},
   "outputs": [
    {
     "name": "stdout",
     "output_type": "stream",
     "text": [
      "Train-Set               precision    recall  f1-score   support\n",
      "\n",
      "           0       0.84      0.84      0.84      3700\n",
      "           1       0.84      0.84      0.84      3700\n",
      "\n",
      "    accuracy                           0.84      7400\n",
      "   macro avg       0.84      0.84      0.84      7400\n",
      "weighted avg       0.84      0.84      0.84      7400\n",
      "\n",
      "Test-Set               precision    recall  f1-score   support\n",
      "\n",
      "           0       0.96      0.78      0.86     11973\n",
      "           1       0.32      0.77      0.45      1586\n",
      "\n",
      "    accuracy                           0.78     13559\n",
      "   macro avg       0.64      0.78      0.66     13559\n",
      "weighted avg       0.89      0.78      0.82     13559\n",
      "\n"
     ]
    }
   ],
   "source": [
    "# training model knn\n",
    "knn.fit(X_train_balanced_new, y_train_balanced)\n",
    "\n",
    "knn_train = knn.predict(X_train_balanced_new)\n",
    "knn_test = knn.predict(X_test_new)\n",
    "\n",
    "print('Train-Set', classification_report(y_train_balanced, knn_train))\n",
    "print('Test-Set', classification_report(y_test, knn_test))"
   ]
  },
  {
   "cell_type": "code",
   "execution_count": 46,
   "metadata": {},
   "outputs": [
    {
     "name": "stdout",
     "output_type": "stream",
     "text": [
      "Train-Set               precision    recall  f1-score   support\n",
      "\n",
      "           0       1.00      1.00      1.00      3700\n",
      "           1       1.00      1.00      1.00      3700\n",
      "\n",
      "    accuracy                           1.00      7400\n",
      "   macro avg       1.00      1.00      1.00      7400\n",
      "weighted avg       1.00      1.00      1.00      7400\n",
      "\n",
      "Test-Set               precision    recall  f1-score   support\n",
      "\n",
      "           0       0.97      0.80      0.88     11973\n",
      "           1       0.35      0.81      0.49      1586\n",
      "\n",
      "    accuracy                           0.80     13559\n",
      "   macro avg       0.66      0.81      0.68     13559\n",
      "weighted avg       0.90      0.80      0.83     13559\n",
      "\n"
     ]
    }
   ],
   "source": [
    "# training model Random Forest\n",
    "rf.fit(X_train_balanced_new, y_train_balanced)\n",
    "\n",
    "rf_train = rf.predict(X_train_balanced_new)\n",
    "rf_test = rf.predict(X_test_new)\n",
    "\n",
    "print('Train-Set', classification_report(y_train_balanced, rf_train))\n",
    "print('Test-Set', classification_report(y_test, rf_test))"
   ]
  },
  {
   "cell_type": "code",
   "execution_count": 47,
   "metadata": {},
   "outputs": [
    {
     "name": "stdout",
     "output_type": "stream",
     "text": [
      "Train-Set               precision    recall  f1-score   support\n",
      "\n",
      "           0       1.00      1.00      1.00      3700\n",
      "           1       1.00      1.00      1.00      3700\n",
      "\n",
      "    accuracy                           1.00      7400\n",
      "   macro avg       1.00      1.00      1.00      7400\n",
      "weighted avg       1.00      1.00      1.00      7400\n",
      "\n",
      "Test-Set               precision    recall  f1-score   support\n",
      "\n",
      "           0       0.95      0.75      0.84     11973\n",
      "           1       0.28      0.72      0.40      1586\n",
      "\n",
      "    accuracy                           0.75     13559\n",
      "   macro avg       0.62      0.74      0.62     13559\n",
      "weighted avg       0.87      0.75      0.79     13559\n",
      "\n"
     ]
    }
   ],
   "source": [
    "# training model Decision Tree\n",
    "dt.fit(X_train_balanced_new, y_train_balanced)\n",
    "\n",
    "dt_train = dt.predict(X_train_balanced_new)\n",
    "dt_test = dt.predict(X_test_new)\n",
    "\n",
    "print('Train-Set', classification_report(y_train_balanced, dt_train))\n",
    "print('Test-Set', classification_report(y_test, dt_test))"
   ]
  },
  {
   "cell_type": "code",
   "execution_count": 48,
   "metadata": {},
   "outputs": [
    {
     "name": "stdout",
     "output_type": "stream",
     "text": [
      "Train-Set               precision    recall  f1-score   support\n",
      "\n",
      "           0       0.82      0.82      0.82      3700\n",
      "           1       0.82      0.81      0.82      3700\n",
      "\n",
      "    accuracy                           0.82      7400\n",
      "   macro avg       0.82      0.82      0.82      7400\n",
      "weighted avg       0.82      0.82      0.82      7400\n",
      "\n",
      "Test-Set               precision    recall  f1-score   support\n",
      "\n",
      "           0       0.97      0.82      0.89     11973\n",
      "           1       0.37      0.80      0.50      1586\n",
      "\n",
      "    accuracy                           0.82     13559\n",
      "   macro avg       0.67      0.81      0.70     13559\n",
      "weighted avg       0.90      0.82      0.84     13559\n",
      "\n"
     ]
    }
   ],
   "source": [
    "# training model dengan Ada Boosting\n",
    "ab.fit(X_train_balanced_new, y_train_balanced)\n",
    "\n",
    "ab_train = ab.predict(X_train_balanced_new)\n",
    "ab_test = ab.predict(X_test_new)\n",
    "\n",
    "print('Train-Set', classification_report(y_train_balanced, ab_train))\n",
    "print('Test-Set', classification_report(y_test, ab_test))"
   ]
  },
  {
   "cell_type": "markdown",
   "metadata": {},
   "source": [
    "- setelah dilakukan training pada seluruh model, didapatkan data yang overfit pada semua model\n",
    "- akan dilakukan cross validation untuk mengetahui performa model lebih lanjut"
   ]
  },
  {
   "cell_type": "markdown",
   "metadata": {},
   "source": [
    "#### Cross Validation"
   ]
  },
  {
   "cell_type": "code",
   "execution_count": 49,
   "metadata": {},
   "outputs": [
    {
     "name": "stdout",
     "output_type": "stream",
     "text": [
      "Recall Score - All - Cross Validation  :  [0.79594595 0.81081081 0.77702703 0.81081081 0.8027027 ]\n",
      "Recall Score - Mean - Cross Validation :  0.7994594594594595\n",
      "Recall Score - Std - Cross Validation  :  0.01252025386151406\n",
      "Recall Score - Range of Test-Set       :  0.7869392055979455 - 0.8119797133209735\n"
     ]
    }
   ],
   "source": [
    "# cross validation pada model svm\n",
    "recall_train_cross_val_svm = cross_val_score(\n",
    "    svm, X_train_balanced_new, y_train_balanced, cv=5, scoring=\"recall\")\n",
    "\n",
    "print('F1 Score - All - Cross Validation  : ', recall_train_cross_val_svm)\n",
    "print('F1 Score - Mean - Cross Validation : ', recall_train_cross_val_svm.mean())\n",
    "print('F1 Score - Std - Cross Validation  : ', recall_train_cross_val_svm.std())\n",
    "print('F1 Score - Range of Test-Set       : ',\n",
    "      (recall_train_cross_val_svm.mean() - recall_train_cross_val_svm.std()), '-',\n",
    "      (recall_train_cross_val_svm.mean() + recall_train_cross_val_svm.std()))"
   ]
  },
  {
   "cell_type": "code",
   "execution_count": 50,
   "metadata": {},
   "outputs": [
    {
     "name": "stdout",
     "output_type": "stream",
     "text": [
      "Recall Score - All - Cross Validation  :  [0.77297297 0.76486486 0.74459459 0.75945946 0.77297297]\n",
      "Recall Score - Mean - Cross Validation :  0.7629729729729731\n",
      "Recall Score - Std - Cross Validation  :  0.010523201261584722\n",
      "Recall Score - Range of Test-Set       :  0.7524497717113884 - 0.7734961742345577\n"
     ]
    }
   ],
   "source": [
    "# cross validation pada model KNN\n",
    "recall_train_cross_val_knn = cross_val_score(\n",
    "    knn, X_train_balanced_new, y_train_balanced, cv=5, scoring=\"recall\")\n",
    "\n",
    "print('Recall Score - All - Cross Validation  : ', recall_train_cross_val_knn)\n",
    "print('Recall Score - Mean - Cross Validation : ', recall_train_cross_val_knn.mean())\n",
    "print('Recall Score - Std - Cross Validation  : ', recall_train_cross_val_knn.std())\n",
    "print('Recall Score - Range of Test-Set       : ',\n",
    "      (recall_train_cross_val_knn.mean() - recall_train_cross_val_knn.std()), '-',\n",
    "      (recall_train_cross_val_knn.mean() + recall_train_cross_val_knn.std()))"
   ]
  },
  {
   "cell_type": "code",
   "execution_count": 51,
   "metadata": {},
   "outputs": [
    {
     "name": "stdout",
     "output_type": "stream",
     "text": [
      "Recall Score - All - Cross Validation  :  [0.81891892 0.81756757 0.81081081 0.82837838 0.80945946]\n",
      "Recall Score - Mean - Cross Validation :  0.817027027027027\n",
      "Recall Score - Std - Cross Validation  :  0.006762160001727995\n",
      "Recall Score - Range of Test-Set       :  0.810264867025299 - 0.823789187028755\n"
     ]
    }
   ],
   "source": [
    "# cross validation pada model Random Forest\n",
    "recall_train_cross_val_rf = cross_val_score(\n",
    "    rf, X_train_balanced_new, y_train_balanced, cv=5, scoring=\"recall\")\n",
    "\n",
    "print('Recall Score - All - Cross Validation  : ', recall_train_cross_val_rf)\n",
    "print('Recall Score - Mean - Cross Validation : ', recall_train_cross_val_rf.mean())\n",
    "print('Recall Score - Std - Cross Validation  : ', recall_train_cross_val_rf.std())\n",
    "print('Recall Score - Range of Test-Set       : ',\n",
    "      (recall_train_cross_val_rf.mean() - recall_train_cross_val_rf.std()), '-',\n",
    "      (recall_train_cross_val_rf.mean() + recall_train_cross_val_rf.std()))"
   ]
  },
  {
   "cell_type": "code",
   "execution_count": 52,
   "metadata": {},
   "outputs": [
    {
     "name": "stdout",
     "output_type": "stream",
     "text": [
      "Recall Score - All - Cross Validation  :  [0.72972973 0.73783784 0.73108108 0.75       0.72837838]\n",
      "Recall Score - Mean - Cross Validation :  0.7354054054054053\n",
      "Recall Score - Std - Cross Validation  :  0.00799013270221324\n",
      "Recall Score - Range of Test-Set       :  0.7274152727031921 - 0.7433955381076186\n"
     ]
    }
   ],
   "source": [
    "# cross validation pada model Decision Tree\n",
    "recall_train_cross_val_dt = cross_val_score(\n",
    "    dt, X_train_balanced_new, y_train_balanced, cv=5, scoring=\"recall\")\n",
    "\n",
    "print('Recall Score - All - Cross Validation  : ', recall_train_cross_val_dt)\n",
    "print('Recall Score - Mean - Cross Validation : ', recall_train_cross_val_dt.mean())\n",
    "print('Recall Score - Std - Cross Validation  : ', recall_train_cross_val_dt.std())\n",
    "print('Recall Score - Range of Test-Set       : ',\n",
    "      (recall_train_cross_val_dt.mean() - recall_train_cross_val_dt.std()), '-',\n",
    "      (recall_train_cross_val_dt.mean() + recall_train_cross_val_dt.std()))"
   ]
  },
  {
   "cell_type": "code",
   "execution_count": 53,
   "metadata": {},
   "outputs": [
    {
     "name": "stdout",
     "output_type": "stream",
     "text": [
      "Recall Score - All - Cross Validation  :  [0.7972973  0.80945946 0.78648649 0.80135135 0.79594595]\n",
      "Recall Score - Mean - Cross Validation :  0.7981081081081081\n",
      "Recall Score - Std - Cross Validation  :  0.007480190542215162\n",
      "Recall Score - Range of Test-Set       :  0.7906279175658929 - 0.8055882986503232\n"
     ]
    }
   ],
   "source": [
    "# cross validation pada model Ada Boosting\n",
    "recall_train_cross_val_ab = cross_val_score(\n",
    "    ab, X_train_balanced_new, y_train_balanced, cv=5, scoring=\"recall\")\n",
    "\n",
    "print('Recall Score - All - Cross Validation  : ', recall_train_cross_val_ab)\n",
    "print('Recall Score - Mean - Cross Validation : ', recall_train_cross_val_ab.mean())\n",
    "print('Recall Score - Std - Cross Validation  : ', recall_train_cross_val_ab.std())\n",
    "print('Recall Score - Range of Test-Set       : ',\n",
    "      (recall_train_cross_val_ab.mean() - recall_train_cross_val_ab.std()), '-',\n",
    "      (recall_train_cross_val_ab.mean() + recall_train_cross_val_ab.std()))"
   ]
  },
  {
   "cell_type": "markdown",
   "metadata": {},
   "source": [
    "- dari seluruh model, hasil terbaik didapatkan pada model Random Forest Classifier\n",
    "- semakin kecil nilai standar deviasi, semakin bagus. pada model RF, nilai std adalah 0.0069 dan merupakan kedua terendah. yang terendah terdapat pada model Decision Tree\n",
    "- nilai range semakin mendekati 1 maka semakin bagus. model RF memiliki nilai range tertinggi, yaitu 0.82\n",
    "- model RF memiliki nilai terbaik dibandingkan model lainnya dilihat dari nilai std dan range\n",
    "- angka std dan range yang bagus menandakan bahwa model dapat memprediksi hasil secara konsisten, tapi angka ini tidak menunjukkan keakuratan prediksi model\n",
    "\n",
    "        `model RF akan digunakan dalam hyperparameter tuning`"
   ]
  },
  {
   "cell_type": "code",
   "execution_count": 66,
   "metadata": {},
   "outputs": [
    {
     "ename": "SyntaxError",
     "evalue": "invalid syntax (1867954383.py, line 10)",
     "output_type": "error",
     "traceback": [
      "\u001b[1;36m  Cell \u001b[1;32mIn[66], line 10\u001b[1;36m\u001b[0m\n\u001b[1;33m    best_model = max(model_scores, key=lambda k: model_scores[k][0])\u001b[0m\n\u001b[1;37m    ^\u001b[0m\n\u001b[1;31mSyntaxError\u001b[0m\u001b[1;31m:\u001b[0m invalid syntax\n"
     ]
    }
   ],
   "source": [
    "# Define a dictionary to store mean and standard deviation for each model\n",
    "model_scores = {\n",
    "    'KNN': (recall_train_cross_val_knn.mean(), recall_train_cross_val_knn.std()),\n",
    "    'SVM': (recall_train_cross_val_svm.mean(), recall_train_cross_val_svm.std()),\n",
    "    'Random Forest': (recall_train_cross_val_rf.mean(), recall_train_cross_val_rf.std()),\n",
    "    'Decision Tree': (recall_train_cross_val_dt.mean(), recall_train_cross_val_dt.std()),\n",
    "    'AdaBoost': (recall_train_cross_val_ab.mean(), recall_train_cross_val_ab.std())\n",
    "\n",
    "# Find the model with the highest mean recall score\n",
    "best_model = max(model_scores, key=lambda k: model_scores[k][0])\n",
    "best_mean_score, best_std_dev = model_scores[best_model]\n",
    "\n",
    "# Define the models and their corresponding mean recall scores and standard deviations\n",
    "models = ['KNN', 'SVM', 'Random Forest', 'Decision Tree', 'AdaBoost']\n",
    "mean_scores = [model_scores[model][0] for model in models]\n",
    "std_devs = [model_scores[model][1] for model in models]\n",
    "}"
   ]
  },
  {
   "cell_type": "code",
   "execution_count": null,
   "metadata": {},
   "outputs": [],
   "source": [
    "# Create a bar plot with error bars for standard deviation\n",
    "plt.figure(figsize=(10, 6))\n",
    "plt.bar(models, mean_scores, yerr=std_devs, capsize=10, color='skyblue', alpha=0.7)\n",
    "plt.xlabel('Models')\n",
    "plt.ylabel('Mean Recall Score')\n",
    "plt.title('Mean Recall Scores with Standard Deviations for Different Models')\n",
    "plt.ylim([0, 1]) \n",
    "\n",
    "# Display the values on top of each bar\n",
    "for i, v in enumerate(mean_scores):\n",
    "    plt.text(i, v + 0.05, f'{v:.2f}', ha='center', va='bottom')\n",
    "\n",
    "#    Show result\n",
    "plt.tight_layout()\n",
    "plt.show()"
   ]
  },
  {
   "cell_type": "code",
   "execution_count": null,
   "metadata": {},
   "outputs": [],
   "source": []
  },
  {
   "cell_type": "markdown",
   "metadata": {},
   "source": [
    "### Hyperparameter Tuning"
   ]
  },
  {
   "cell_type": "code",
   "execution_count": 77,
   "metadata": {},
   "outputs": [
    {
     "data": {
      "text/html": [
       "<style>#sk-container-id-6 {color: black;}#sk-container-id-6 pre{padding: 0;}#sk-container-id-6 div.sk-toggleable {background-color: white;}#sk-container-id-6 label.sk-toggleable__label {cursor: pointer;display: block;width: 100%;margin-bottom: 0;padding: 0.3em;box-sizing: border-box;text-align: center;}#sk-container-id-6 label.sk-toggleable__label-arrow:before {content: \"▸\";float: left;margin-right: 0.25em;color: #696969;}#sk-container-id-6 label.sk-toggleable__label-arrow:hover:before {color: black;}#sk-container-id-6 div.sk-estimator:hover label.sk-toggleable__label-arrow:before {color: black;}#sk-container-id-6 div.sk-toggleable__content {max-height: 0;max-width: 0;overflow: hidden;text-align: left;background-color: #f0f8ff;}#sk-container-id-6 div.sk-toggleable__content pre {margin: 0.2em;color: black;border-radius: 0.25em;background-color: #f0f8ff;}#sk-container-id-6 input.sk-toggleable__control:checked~div.sk-toggleable__content {max-height: 200px;max-width: 100%;overflow: auto;}#sk-container-id-6 input.sk-toggleable__control:checked~label.sk-toggleable__label-arrow:before {content: \"▾\";}#sk-container-id-6 div.sk-estimator input.sk-toggleable__control:checked~label.sk-toggleable__label {background-color: #d4ebff;}#sk-container-id-6 div.sk-label input.sk-toggleable__control:checked~label.sk-toggleable__label {background-color: #d4ebff;}#sk-container-id-6 input.sk-hidden--visually {border: 0;clip: rect(1px 1px 1px 1px);clip: rect(1px, 1px, 1px, 1px);height: 1px;margin: -1px;overflow: hidden;padding: 0;position: absolute;width: 1px;}#sk-container-id-6 div.sk-estimator {font-family: monospace;background-color: #f0f8ff;border: 1px dotted black;border-radius: 0.25em;box-sizing: border-box;margin-bottom: 0.5em;}#sk-container-id-6 div.sk-estimator:hover {background-color: #d4ebff;}#sk-container-id-6 div.sk-parallel-item::after {content: \"\";width: 100%;border-bottom: 1px solid gray;flex-grow: 1;}#sk-container-id-6 div.sk-label:hover label.sk-toggleable__label {background-color: #d4ebff;}#sk-container-id-6 div.sk-serial::before {content: \"\";position: absolute;border-left: 1px solid gray;box-sizing: border-box;top: 0;bottom: 0;left: 50%;z-index: 0;}#sk-container-id-6 div.sk-serial {display: flex;flex-direction: column;align-items: center;background-color: white;padding-right: 0.2em;padding-left: 0.2em;position: relative;}#sk-container-id-6 div.sk-item {position: relative;z-index: 1;}#sk-container-id-6 div.sk-parallel {display: flex;align-items: stretch;justify-content: center;background-color: white;position: relative;}#sk-container-id-6 div.sk-item::before, #sk-container-id-6 div.sk-parallel-item::before {content: \"\";position: absolute;border-left: 1px solid gray;box-sizing: border-box;top: 0;bottom: 0;left: 50%;z-index: -1;}#sk-container-id-6 div.sk-parallel-item {display: flex;flex-direction: column;z-index: 1;position: relative;background-color: white;}#sk-container-id-6 div.sk-parallel-item:first-child::after {align-self: flex-end;width: 50%;}#sk-container-id-6 div.sk-parallel-item:last-child::after {align-self: flex-start;width: 50%;}#sk-container-id-6 div.sk-parallel-item:only-child::after {width: 0;}#sk-container-id-6 div.sk-dashed-wrapped {border: 1px dashed gray;margin: 0 0.4em 0.5em 0.4em;box-sizing: border-box;padding-bottom: 0.4em;background-color: white;}#sk-container-id-6 div.sk-label label {font-family: monospace;font-weight: bold;display: inline-block;line-height: 1.2em;}#sk-container-id-6 div.sk-label-container {text-align: center;}#sk-container-id-6 div.sk-container {/* jupyter's `normalize.less` sets `[hidden] { display: none; }` but bootstrap.min.css set `[hidden] { display: none !important; }` so we also need the `!important` here to be able to override the default hidden behavior on the sphinx rendered scikit-learn.org. See: https://github.com/scikit-learn/scikit-learn/issues/21755 */display: inline-block !important;position: relative;}#sk-container-id-6 div.sk-text-repr-fallback {display: none;}</style><div id=\"sk-container-id-6\" class=\"sk-top-container\"><div class=\"sk-text-repr-fallback\"><pre>RandomizedSearchCV(cv=5, estimator=RandomForestClassifier(), n_iter=100,\n",
       "                   n_jobs=-1,\n",
       "                   param_distributions={&#x27;criterion&#x27;: [&#x27;gini&#x27;, &#x27;entropy&#x27;,\n",
       "                                                      &#x27;log_loss&#x27;],\n",
       "                                        &#x27;max_depth&#x27;: [None, 10, 20],\n",
       "                                        &#x27;min_samples_split&#x27;: [2, 5, 10],\n",
       "                                        &#x27;n_estimators&#x27;: [50, 100, 200]},\n",
       "                   random_state=3, scoring=&#x27;recall&#x27;)</pre><b>In a Jupyter environment, please rerun this cell to show the HTML representation or trust the notebook. <br />On GitHub, the HTML representation is unable to render, please try loading this page with nbviewer.org.</b></div><div class=\"sk-container\" hidden><div class=\"sk-item sk-dashed-wrapped\"><div class=\"sk-label-container\"><div class=\"sk-label sk-toggleable\"><input class=\"sk-toggleable__control sk-hidden--visually\" id=\"sk-estimator-id-34\" type=\"checkbox\" ><label for=\"sk-estimator-id-34\" class=\"sk-toggleable__label sk-toggleable__label-arrow\">RandomizedSearchCV</label><div class=\"sk-toggleable__content\"><pre>RandomizedSearchCV(cv=5, estimator=RandomForestClassifier(), n_iter=100,\n",
       "                   n_jobs=-1,\n",
       "                   param_distributions={&#x27;criterion&#x27;: [&#x27;gini&#x27;, &#x27;entropy&#x27;,\n",
       "                                                      &#x27;log_loss&#x27;],\n",
       "                                        &#x27;max_depth&#x27;: [None, 10, 20],\n",
       "                                        &#x27;min_samples_split&#x27;: [2, 5, 10],\n",
       "                                        &#x27;n_estimators&#x27;: [50, 100, 200]},\n",
       "                   random_state=3, scoring=&#x27;recall&#x27;)</pre></div></div></div><div class=\"sk-parallel\"><div class=\"sk-parallel-item\"><div class=\"sk-item\"><div class=\"sk-label-container\"><div class=\"sk-label sk-toggleable\"><input class=\"sk-toggleable__control sk-hidden--visually\" id=\"sk-estimator-id-35\" type=\"checkbox\" ><label for=\"sk-estimator-id-35\" class=\"sk-toggleable__label sk-toggleable__label-arrow\">estimator: RandomForestClassifier</label><div class=\"sk-toggleable__content\"><pre>RandomForestClassifier()</pre></div></div></div><div class=\"sk-serial\"><div class=\"sk-item\"><div class=\"sk-estimator sk-toggleable\"><input class=\"sk-toggleable__control sk-hidden--visually\" id=\"sk-estimator-id-36\" type=\"checkbox\" ><label for=\"sk-estimator-id-36\" class=\"sk-toggleable__label sk-toggleable__label-arrow\">RandomForestClassifier</label><div class=\"sk-toggleable__content\"><pre>RandomForestClassifier()</pre></div></div></div></div></div></div></div></div></div></div>"
      ],
      "text/plain": [
       "RandomizedSearchCV(cv=5, estimator=RandomForestClassifier(), n_iter=100,\n",
       "                   n_jobs=-1,\n",
       "                   param_distributions={'criterion': ['gini', 'entropy',\n",
       "                                                      'log_loss'],\n",
       "                                        'max_depth': [None, 10, 20],\n",
       "                                        'min_samples_split': [2, 5, 10],\n",
       "                                        'n_estimators': [50, 100, 200]},\n",
       "                   random_state=3, scoring='recall')"
      ]
     },
     "execution_count": 77,
     "metadata": {},
     "output_type": "execute_result"
    }
   ],
   "source": [
    "# memilih parameternya \n",
    "param_grid = {     \n",
    "    'n_estimators': [50, 100, 200],     \n",
    "    'max_depth': [None, 10, 20],     \n",
    "    'min_samples_split': [2, 5, 10],     \n",
    "    'criterion': ['gini', 'entropy', 'log_loss'] }\n",
    "\n",
    "# objek RandomizedSearchCV\n",
    "rf_randomcv = RandomizedSearchCV(\n",
    "    estimator= RandomForestClassifier(),\n",
    "    param_distributions=param_grid,\n",
    "    n_iter=100,\n",
    "    cv=5,\n",
    "    random_state=3,\n",
    "    n_jobs=-1,\n",
    "    scoring='recall'\n",
    ")\n",
    "\n",
    "# pipeline untuk hyperparameter tuning\n",
    "rf_randomcv.fit(X_train_balanced_new, y_train_balanced)"
   ]
  },
  {
   "cell_type": "code",
   "execution_count": 70,
   "metadata": {},
   "outputs": [
    {
     "data": {
      "text/plain": [
       "{'n_estimators': 100,\n",
       " 'min_samples_split': 5,\n",
       " 'max_depth': 10,\n",
       " 'criterion': 'gini'}"
      ]
     },
     "execution_count": 70,
     "metadata": {},
     "output_type": "execute_result"
    }
   ],
   "source": [
    "# melihat parameter terbaik pada model\n",
    "rf_randomcv.best_params_"
   ]
  },
  {
   "cell_type": "code",
   "execution_count": 71,
   "metadata": {},
   "outputs": [],
   "source": [
    "# variabel untuk parameter terbaik\n",
    "rf_randomcv_best = rf_randomcv.best_estimator_"
   ]
  },
  {
   "cell_type": "code",
   "execution_count": 72,
   "metadata": {},
   "outputs": [
    {
     "name": "stdout",
     "output_type": "stream",
     "text": [
      "0.8150637221359555\n",
      "0.0014897651575250363\n"
     ]
    }
   ],
   "source": [
    "# melihat nilai mean dan std setelah dilakukan tuning\n",
    "print(rf_randomcv.cv_results_['mean_test_score'].mean())\n",
    "print(rf_randomcv.cv_results_['std_test_score'].std())"
   ]
  },
  {
   "cell_type": "markdown",
   "metadata": {},
   "source": [
    "# viii. Model Evaluation"
   ]
  },
  {
   "cell_type": "markdown",
   "metadata": {},
   "source": [
    "Saya akan menggunakan F1 Score untuk penilaian hasil model, karena menurut saya hasil yes dan no memiliki nilai yang sama penting."
   ]
  },
  {
   "cell_type": "code",
   "execution_count": 73,
   "metadata": {},
   "outputs": [
    {
     "name": "stdout",
     "output_type": "stream",
     "text": [
      "Recall Score - Train Set  :  0.8637837837837837 \n",
      "\n",
      "Classification Report : \n",
      "               precision    recall  f1-score   support\n",
      "\n",
      "           0       0.86      0.84      0.85      3700\n",
      "           1       0.85      0.86      0.86      3700\n",
      "\n",
      "    accuracy                           0.85      7400\n",
      "   macro avg       0.85      0.85      0.85      7400\n",
      "weighted avg       0.85      0.85      0.85      7400\n",
      " \n",
      "\n",
      "Confusion Matrix      : \n",
      " <sklearn.metrics._plot.confusion_matrix.ConfusionMatrixDisplay object at 0x000001B1A00AA4F0>\n"
     ]
    },
    {
     "data": {
      "image/png": "[encoded data removed]",
      "text/plain": [
       "<Figure size 640x480 with 2 Axes>"
      ]
     },
     "metadata": {},
     "output_type": "display_data"
    }
   ],
   "source": [
    "# hasil prediksi model setelah tuning pada Train-set\n",
    "y_pred_train_finals = rf_randomcv_best.predict(X_train_balanced_new)\n",
    "\n",
    "print('Recall Score - Train Set  : ', recall_score(y_train_balanced, y_pred_train_finals), '\\n')\n",
    "print('Classification Report : \\n', classification_report(y_train_balanced, y_pred_train_finals), '\\n')\n",
    "print('Confusion Matrix      : \\n', ConfusionMatrixDisplay.from_estimator(rf_randomcv, X_train_balanced_new, y_train_balanced, cmap='Reds'))"
   ]
  },
  {
   "cell_type": "code",
   "execution_count": 74,
   "metadata": {},
   "outputs": [
    {
     "name": "stdout",
     "output_type": "stream",
     "text": [
      "Recall Score - Test Set  :  0.8259773013871374 \n",
      "\n",
      "Classification Report : \n",
      "               precision    recall  f1-score   support\n",
      "\n",
      "           0       0.97      0.81      0.88     11973\n",
      "           1       0.36      0.83      0.50      1586\n",
      "\n",
      "    accuracy                           0.81     13559\n",
      "   macro avg       0.67      0.82      0.69     13559\n",
      "weighted avg       0.90      0.81      0.84     13559\n",
      " \n",
      "\n",
      "Confusion Matrix      : \n",
      " <sklearn.metrics._plot.confusion_matrix.ConfusionMatrixDisplay object at 0x000001B1A00AA5E0>\n"
     ]
    },
    {
     "data": {
      "image/png": "[encoded data removed]",
      "text/plain": [
       "<Figure size 640x480 with 2 Axes>"
      ]
     },
     "metadata": {},
     "output_type": "display_data"
    }
   ],
   "source": [
    "# training model setelah tuning pada Test-set\n",
    "y_pred_test_finals = rf_randomcv_best.predict(X_test_new)\n",
    "\n",
    "print('Recall Score - Test Set  : ', recall_score(y_test, y_pred_test_finals), '\\n')\n",
    "print('Classification Report : \\n', classification_report(y_test, y_pred_test_finals), '\\n')\n",
    "print('Confusion Matrix      : \\n', ConfusionMatrixDisplay.from_estimator(rf_randomcv, X_test_new, y_test, cmap='Reds'))"
   ]
  },
  {
   "cell_type": "code",
   "execution_count": 75,
   "metadata": {},
   "outputs": [
    {
     "data": {
      "text/html": [
       "<div>\n",
       "<style scoped>\n",
       "    .dataframe tbody tr th:only-of-type {\n",
       "        vertical-align: middle;\n",
       "    }\n",
       "\n",
       "    .dataframe tbody tr th {\n",
       "        vertical-align: top;\n",
       "    }\n",
       "\n",
       "    .dataframe thead th {\n",
       "        text-align: right;\n",
       "    }\n",
       "</style>\n",
       "<table border=\"1\" class=\"dataframe\">\n",
       "  <thead>\n",
       "    <tr style=\"text-align: right;\">\n",
       "      <th></th>\n",
       "      <th>Baseline (Default Hyperparameter)</th>\n",
       "    </tr>\n",
       "  </thead>\n",
       "  <tbody>\n",
       "    <tr>\n",
       "      <th>test - accuracy_score</th>\n",
       "      <td>0.802862</td>\n",
       "    </tr>\n",
       "    <tr>\n",
       "      <th>test - f1_score</th>\n",
       "      <td>0.491342</td>\n",
       "    </tr>\n",
       "    <tr>\n",
       "      <th>test - precision</th>\n",
       "      <td>0.351867</td>\n",
       "    </tr>\n",
       "    <tr>\n",
       "      <th>test - recall</th>\n",
       "      <td>0.813997</td>\n",
       "    </tr>\n",
       "    <tr>\n",
       "      <th>train - accuracy</th>\n",
       "      <td>0.999595</td>\n",
       "    </tr>\n",
       "    <tr>\n",
       "      <th>train - f1_score</th>\n",
       "      <td>0.999595</td>\n",
       "    </tr>\n",
       "    <tr>\n",
       "      <th>train - precision</th>\n",
       "      <td>0.999190</td>\n",
       "    </tr>\n",
       "    <tr>\n",
       "      <th>train - recall</th>\n",
       "      <td>1.000000</td>\n",
       "    </tr>\n",
       "  </tbody>\n",
       "</table>\n",
       "</div>"
      ],
      "text/plain": [
       "                       Baseline (Default Hyperparameter)\n",
       "test - accuracy_score                           0.802862\n",
       "test - f1_score                                 0.491342\n",
       "test - precision                                0.351867\n",
       "test - recall                                   0.813997\n",
       "train - accuracy                                0.999595\n",
       "train - f1_score                                0.999595\n",
       "train - precision                               0.999190\n",
       "train - recall                                  1.000000"
      ]
     },
     "execution_count": 75,
     "metadata": {},
     "output_type": "execute_result"
    }
   ],
   "source": [
    "# membuat fungsi report nilai hasil model akhir\n",
    "all_reports = {}\n",
    "def performance_report(all_reports, y_train_balanced, rf_train, y_test, rf_test, name):\n",
    "  score_reports = {\n",
    "      'train - precision' : precision_score(y_train_balanced, rf_train),\n",
    "      'train - recall' : recall_score(y_train_balanced, rf_train),\n",
    "      'train - accuracy' : accuracy_score(y_train_balanced, rf_train),\n",
    "      'train - f1_score' : f1_score(y_train_balanced, rf_train),\n",
    "      'test - precision' : precision_score(y_test, rf_test),\n",
    "      'test - recall' : recall_score(y_test, rf_test),\n",
    "      'test - accuracy_score' : accuracy_score(y_test, rf_test),\n",
    "      'test - f1_score' : f1_score(y_test, rf_test),\n",
    "  }\n",
    "  all_reports[name] = score_reports\n",
    "  return all_reports\n",
    "\n",
    "# report hasil model pada base model\n",
    "all_reports = performance_report(all_reports, y_train_balanced, rf_train, y_test, rf_test, 'Baseline (Default Hyperparameter)')\n",
    "pd.DataFrame(all_reports)"
   ]
  },
  {
   "cell_type": "code",
   "execution_count": 76,
   "metadata": {},
   "outputs": [
    {
     "data": {
      "text/html": [
       "<div>\n",
       "<style scoped>\n",
       "    .dataframe tbody tr th:only-of-type {\n",
       "        vertical-align: middle;\n",
       "    }\n",
       "\n",
       "    .dataframe tbody tr th {\n",
       "        vertical-align: top;\n",
       "    }\n",
       "\n",
       "    .dataframe thead th {\n",
       "        text-align: right;\n",
       "    }\n",
       "</style>\n",
       "<table border=\"1\" class=\"dataframe\">\n",
       "  <thead>\n",
       "    <tr style=\"text-align: right;\">\n",
       "      <th></th>\n",
       "      <th>Baseline (Default Hyperparameter)</th>\n",
       "      <th>Random Search</th>\n",
       "    </tr>\n",
       "  </thead>\n",
       "  <tbody>\n",
       "    <tr>\n",
       "      <th>train - precision</th>\n",
       "      <td>0.999190</td>\n",
       "      <td>0.846847</td>\n",
       "    </tr>\n",
       "    <tr>\n",
       "      <th>train - recall</th>\n",
       "      <td>1.000000</td>\n",
       "      <td>0.863784</td>\n",
       "    </tr>\n",
       "    <tr>\n",
       "      <th>train - accuracy</th>\n",
       "      <td>0.999595</td>\n",
       "      <td>0.853784</td>\n",
       "    </tr>\n",
       "    <tr>\n",
       "      <th>train - f1_score</th>\n",
       "      <td>0.999595</td>\n",
       "      <td>0.855231</td>\n",
       "    </tr>\n",
       "    <tr>\n",
       "      <th>test - precision</th>\n",
       "      <td>0.351867</td>\n",
       "      <td>0.363283</td>\n",
       "    </tr>\n",
       "    <tr>\n",
       "      <th>test - recall</th>\n",
       "      <td>0.813997</td>\n",
       "      <td>0.825977</td>\n",
       "    </tr>\n",
       "    <tr>\n",
       "      <th>test - accuracy_score</th>\n",
       "      <td>0.802862</td>\n",
       "      <td>0.810310</td>\n",
       "    </tr>\n",
       "    <tr>\n",
       "      <th>test - f1_score</th>\n",
       "      <td>0.491342</td>\n",
       "      <td>0.504622</td>\n",
       "    </tr>\n",
       "  </tbody>\n",
       "</table>\n",
       "</div>"
      ],
      "text/plain": [
       "                       Baseline (Default Hyperparameter)  Random Search\n",
       "train - precision                               0.999190       0.846847\n",
       "train - recall                                  1.000000       0.863784\n",
       "train - accuracy                                0.999595       0.853784\n",
       "train - f1_score                                0.999595       0.855231\n",
       "test - precision                                0.351867       0.363283\n",
       "test - recall                                   0.813997       0.825977\n",
       "test - accuracy_score                           0.802862       0.810310\n",
       "test - f1_score                                 0.491342       0.504622"
      ]
     },
     "execution_count": 76,
     "metadata": {},
     "output_type": "execute_result"
    }
   ],
   "source": [
    "# report hasil pada best model\n",
    "all_reports = performance_report(all_reports, y_train_balanced, y_pred_train_finals, y_test, y_pred_test_finals, 'Random Search')\n",
    "pd.DataFrame(all_reports)"
   ]
  },
  {
   "cell_type": "markdown",
   "metadata": {},
   "source": [
    "- Nilai F1-score pada baseline model memiliki nilai train yang sangat bagus, tetapi pada test nilainya turun secara signifikan, ini menunjukkan adanya overfitting.\n",
    "- Nilai F1-score pada best model memiliki nilai train yang menurun tapi tidak secara signifikan dari baseline model, F1-score pada test-set naik pada best model walaupun sedikit, tetapi tetap jauh dari train set. ini menunjukkan adanya overfitting.\n",
    "- walaupun terdapat hasil yang overfit, nilai terbaik didapatkan pada model setelah dilakukan hyperperameter tuning atau best model. \n",
    "\n",
    "`Jadi saya akan menggunakan model ini untuk prediksi`"
   ]
  },
  {
   "cell_type": "markdown",
   "metadata": {},
   "source": [
    "# ix. Model Saving"
   ]
  },
  {
   "cell_type": "code",
   "execution_count": 62,
   "metadata": {},
   "outputs": [
    {
     "data": {
      "text/html": [
       "<style>#sk-container-id-3 {color: black;}#sk-container-id-3 pre{padding: 0;}#sk-container-id-3 div.sk-toggleable {background-color: white;}#sk-container-id-3 label.sk-toggleable__label {cursor: pointer;display: block;width: 100%;margin-bottom: 0;padding: 0.3em;box-sizing: border-box;text-align: center;}#sk-container-id-3 label.sk-toggleable__label-arrow:before {content: \"▸\";float: left;margin-right: 0.25em;color: #696969;}#sk-container-id-3 label.sk-toggleable__label-arrow:hover:before {color: black;}#sk-container-id-3 div.sk-estimator:hover label.sk-toggleable__label-arrow:before {color: black;}#sk-container-id-3 div.sk-toggleable__content {max-height: 0;max-width: 0;overflow: hidden;text-align: left;background-color: #f0f8ff;}#sk-container-id-3 div.sk-toggleable__content pre {margin: 0.2em;color: black;border-radius: 0.25em;background-color: #f0f8ff;}#sk-container-id-3 input.sk-toggleable__control:checked~div.sk-toggleable__content {max-height: 200px;max-width: 100%;overflow: auto;}#sk-container-id-3 input.sk-toggleable__control:checked~label.sk-toggleable__label-arrow:before {content: \"▾\";}#sk-container-id-3 div.sk-estimator input.sk-toggleable__control:checked~label.sk-toggleable__label {background-color: #d4ebff;}#sk-container-id-3 div.sk-label input.sk-toggleable__control:checked~label.sk-toggleable__label {background-color: #d4ebff;}#sk-container-id-3 input.sk-hidden--visually {border: 0;clip: rect(1px 1px 1px 1px);clip: rect(1px, 1px, 1px, 1px);height: 1px;margin: -1px;overflow: hidden;padding: 0;position: absolute;width: 1px;}#sk-container-id-3 div.sk-estimator {font-family: monospace;background-color: #f0f8ff;border: 1px dotted black;border-radius: 0.25em;box-sizing: border-box;margin-bottom: 0.5em;}#sk-container-id-3 div.sk-estimator:hover {background-color: #d4ebff;}#sk-container-id-3 div.sk-parallel-item::after {content: \"\";width: 100%;border-bottom: 1px solid gray;flex-grow: 1;}#sk-container-id-3 div.sk-label:hover label.sk-toggleable__label {background-color: #d4ebff;}#sk-container-id-3 div.sk-serial::before {content: \"\";position: absolute;border-left: 1px solid gray;box-sizing: border-box;top: 0;bottom: 0;left: 50%;z-index: 0;}#sk-container-id-3 div.sk-serial {display: flex;flex-direction: column;align-items: center;background-color: white;padding-right: 0.2em;padding-left: 0.2em;position: relative;}#sk-container-id-3 div.sk-item {position: relative;z-index: 1;}#sk-container-id-3 div.sk-parallel {display: flex;align-items: stretch;justify-content: center;background-color: white;position: relative;}#sk-container-id-3 div.sk-item::before, #sk-container-id-3 div.sk-parallel-item::before {content: \"\";position: absolute;border-left: 1px solid gray;box-sizing: border-box;top: 0;bottom: 0;left: 50%;z-index: -1;}#sk-container-id-3 div.sk-parallel-item {display: flex;flex-direction: column;z-index: 1;position: relative;background-color: white;}#sk-container-id-3 div.sk-parallel-item:first-child::after {align-self: flex-end;width: 50%;}#sk-container-id-3 div.sk-parallel-item:last-child::after {align-self: flex-start;width: 50%;}#sk-container-id-3 div.sk-parallel-item:only-child::after {width: 0;}#sk-container-id-3 div.sk-dashed-wrapped {border: 1px dashed gray;margin: 0 0.4em 0.5em 0.4em;box-sizing: border-box;padding-bottom: 0.4em;background-color: white;}#sk-container-id-3 div.sk-label label {font-family: monospace;font-weight: bold;display: inline-block;line-height: 1.2em;}#sk-container-id-3 div.sk-label-container {text-align: center;}#sk-container-id-3 div.sk-container {/* jupyter's `normalize.less` sets `[hidden] { display: none; }` but bootstrap.min.css set `[hidden] { display: none !important; }` so we also need the `!important` here to be able to override the default hidden behavior on the sphinx rendered scikit-learn.org. See: https://github.com/scikit-learn/scikit-learn/issues/21755 */display: inline-block !important;position: relative;}#sk-container-id-3 div.sk-text-repr-fallback {display: none;}</style><div id=\"sk-container-id-3\" class=\"sk-top-container\"><div class=\"sk-text-repr-fallback\"><pre>RandomForestClassifier(criterion=&#x27;entropy&#x27;, max_depth=20, min_samples_split=10,\n",
       "                       n_estimators=50)</pre><b>In a Jupyter environment, please rerun this cell to show the HTML representation or trust the notebook. <br />On GitHub, the HTML representation is unable to render, please try loading this page with nbviewer.org.</b></div><div class=\"sk-container\" hidden><div class=\"sk-item\"><div class=\"sk-estimator sk-toggleable\"><input class=\"sk-toggleable__control sk-hidden--visually\" id=\"sk-estimator-id-16\" type=\"checkbox\" checked><label for=\"sk-estimator-id-16\" class=\"sk-toggleable__label sk-toggleable__label-arrow\">RandomForestClassifier</label><div class=\"sk-toggleable__content\"><pre>RandomForestClassifier(criterion=&#x27;entropy&#x27;, max_depth=20, min_samples_split=10,\n",
       "                       n_estimators=50)</pre></div></div></div></div></div>"
      ],
      "text/plain": [
       "RandomForestClassifier(criterion='entropy', max_depth=20, min_samples_split=10,\n",
       "                       n_estimators=50)"
      ]
     },
     "execution_count": 62,
     "metadata": {},
     "output_type": "execute_result"
    }
   ],
   "source": [
    "# fit pipeline dengan best model\n",
    "rf_model = RandomForestClassifier(n_estimators= 50, min_samples_split= 10, max_depth= 20,criterion='entropy')\n",
    "rf_model.fit(X_train_balanced_new, y_train_balanced)"
   ]
  },
  {
   "cell_type": "code",
   "execution_count": 63,
   "metadata": {},
   "outputs": [
    {
     "data": {
      "text/html": [
       "<style>#sk-container-id-4 {color: black;}#sk-container-id-4 pre{padding: 0;}#sk-container-id-4 div.sk-toggleable {background-color: white;}#sk-container-id-4 label.sk-toggleable__label {cursor: pointer;display: block;width: 100%;margin-bottom: 0;padding: 0.3em;box-sizing: border-box;text-align: center;}#sk-container-id-4 label.sk-toggleable__label-arrow:before {content: \"▸\";float: left;margin-right: 0.25em;color: #696969;}#sk-container-id-4 label.sk-toggleable__label-arrow:hover:before {color: black;}#sk-container-id-4 div.sk-estimator:hover label.sk-toggleable__label-arrow:before {color: black;}#sk-container-id-4 div.sk-toggleable__content {max-height: 0;max-width: 0;overflow: hidden;text-align: left;background-color: #f0f8ff;}#sk-container-id-4 div.sk-toggleable__content pre {margin: 0.2em;color: black;border-radius: 0.25em;background-color: #f0f8ff;}#sk-container-id-4 input.sk-toggleable__control:checked~div.sk-toggleable__content {max-height: 200px;max-width: 100%;overflow: auto;}#sk-container-id-4 input.sk-toggleable__control:checked~label.sk-toggleable__label-arrow:before {content: \"▾\";}#sk-container-id-4 div.sk-estimator input.sk-toggleable__control:checked~label.sk-toggleable__label {background-color: #d4ebff;}#sk-container-id-4 div.sk-label input.sk-toggleable__control:checked~label.sk-toggleable__label {background-color: #d4ebff;}#sk-container-id-4 input.sk-hidden--visually {border: 0;clip: rect(1px 1px 1px 1px);clip: rect(1px, 1px, 1px, 1px);height: 1px;margin: -1px;overflow: hidden;padding: 0;position: absolute;width: 1px;}#sk-container-id-4 div.sk-estimator {font-family: monospace;background-color: #f0f8ff;border: 1px dotted black;border-radius: 0.25em;box-sizing: border-box;margin-bottom: 0.5em;}#sk-container-id-4 div.sk-estimator:hover {background-color: #d4ebff;}#sk-container-id-4 div.sk-parallel-item::after {content: \"\";width: 100%;border-bottom: 1px solid gray;flex-grow: 1;}#sk-container-id-4 div.sk-label:hover label.sk-toggleable__label {background-color: #d4ebff;}#sk-container-id-4 div.sk-serial::before {content: \"\";position: absolute;border-left: 1px solid gray;box-sizing: border-box;top: 0;bottom: 0;left: 50%;z-index: 0;}#sk-container-id-4 div.sk-serial {display: flex;flex-direction: column;align-items: center;background-color: white;padding-right: 0.2em;padding-left: 0.2em;position: relative;}#sk-container-id-4 div.sk-item {position: relative;z-index: 1;}#sk-container-id-4 div.sk-parallel {display: flex;align-items: stretch;justify-content: center;background-color: white;position: relative;}#sk-container-id-4 div.sk-item::before, #sk-container-id-4 div.sk-parallel-item::before {content: \"\";position: absolute;border-left: 1px solid gray;box-sizing: border-box;top: 0;bottom: 0;left: 50%;z-index: -1;}#sk-container-id-4 div.sk-parallel-item {display: flex;flex-direction: column;z-index: 1;position: relative;background-color: white;}#sk-container-id-4 div.sk-parallel-item:first-child::after {align-self: flex-end;width: 50%;}#sk-container-id-4 div.sk-parallel-item:last-child::after {align-self: flex-start;width: 50%;}#sk-container-id-4 div.sk-parallel-item:only-child::after {width: 0;}#sk-container-id-4 div.sk-dashed-wrapped {border: 1px dashed gray;margin: 0 0.4em 0.5em 0.4em;box-sizing: border-box;padding-bottom: 0.4em;background-color: white;}#sk-container-id-4 div.sk-label label {font-family: monospace;font-weight: bold;display: inline-block;line-height: 1.2em;}#sk-container-id-4 div.sk-label-container {text-align: center;}#sk-container-id-4 div.sk-container {/* jupyter's `normalize.less` sets `[hidden] { display: none; }` but bootstrap.min.css set `[hidden] { display: none !important; }` so we also need the `!important` here to be able to override the default hidden behavior on the sphinx rendered scikit-learn.org. See: https://github.com/scikit-learn/scikit-learn/issues/21755 */display: inline-block !important;position: relative;}#sk-container-id-4 div.sk-text-repr-fallback {display: none;}</style><div id=\"sk-container-id-4\" class=\"sk-top-container\"><div class=\"sk-text-repr-fallback\"><pre>Pipeline(steps=[(&#x27;preprocess&#x27;,\n",
       "                 ColumnTransformer(transformers=[(&#x27;num&#x27;,\n",
       "                                                  Pipeline(steps=[(&#x27;scaler&#x27;,\n",
       "                                                                   MinMaxScaler())]),\n",
       "                                                  [&#x27;pdays&#x27;, &#x27;age&#x27;]),\n",
       "                                                 (&#x27;num1&#x27;,\n",
       "                                                  Pipeline(steps=[(&#x27;outlier&#x27;,\n",
       "                                                                   Winsorizer(capping_method=&#x27;iqr&#x27;,\n",
       "                                                                              fold=1.5,\n",
       "                                                                              tail=&#x27;both&#x27;)),\n",
       "                                                                  (&#x27;scaler&#x27;,\n",
       "                                                                   MinMaxScaler())]),\n",
       "                                                  [&#x27;duration&#x27;, &#x27;balance&#x27;]),\n",
       "                                                 (&#x27;cat&#x27;,\n",
       "                                                  Pipeline(steps=[(&#x27;encoder&#x27;,\n",
       "                                                                   OneHotEncoder())]),\n",
       "                                                  [&#x27;poutcome&#x27;, &#x27;job&#x27;]),\n",
       "                                                 (&#x27;cat1&#x27;,\n",
       "                                                  Pipeline(steps=[(&#x27;ordinal&#x27;,\n",
       "                                                                   OrdinalEncoder())]),\n",
       "                                                  [&#x27;education&#x27;]),\n",
       "                                                 (&#x27;cat2&#x27;,\n",
       "                                                  Pipeline(steps=[(&#x27;passthrough&#x27;,\n",
       "                                                                   None)]),\n",
       "                                                  [&#x27;housing&#x27;, &#x27;loan&#x27;])])),\n",
       "                (&#x27;classification&#x27;,\n",
       "                 RandomForestClassifier(criterion=&#x27;entropy&#x27;, max_depth=20,\n",
       "                                        min_samples_split=10,\n",
       "                                        n_estimators=50))])</pre><b>In a Jupyter environment, please rerun this cell to show the HTML representation or trust the notebook. <br />On GitHub, the HTML representation is unable to render, please try loading this page with nbviewer.org.</b></div><div class=\"sk-container\" hidden><div class=\"sk-item sk-dashed-wrapped\"><div class=\"sk-label-container\"><div class=\"sk-label sk-toggleable\"><input class=\"sk-toggleable__control sk-hidden--visually\" id=\"sk-estimator-id-17\" type=\"checkbox\" ><label for=\"sk-estimator-id-17\" class=\"sk-toggleable__label sk-toggleable__label-arrow\">Pipeline</label><div class=\"sk-toggleable__content\"><pre>Pipeline(steps=[(&#x27;preprocess&#x27;,\n",
       "                 ColumnTransformer(transformers=[(&#x27;num&#x27;,\n",
       "                                                  Pipeline(steps=[(&#x27;scaler&#x27;,\n",
       "                                                                   MinMaxScaler())]),\n",
       "                                                  [&#x27;pdays&#x27;, &#x27;age&#x27;]),\n",
       "                                                 (&#x27;num1&#x27;,\n",
       "                                                  Pipeline(steps=[(&#x27;outlier&#x27;,\n",
       "                                                                   Winsorizer(capping_method=&#x27;iqr&#x27;,\n",
       "                                                                              fold=1.5,\n",
       "                                                                              tail=&#x27;both&#x27;)),\n",
       "                                                                  (&#x27;scaler&#x27;,\n",
       "                                                                   MinMaxScaler())]),\n",
       "                                                  [&#x27;duration&#x27;, &#x27;balance&#x27;]),\n",
       "                                                 (&#x27;cat&#x27;,\n",
       "                                                  Pipeline(steps=[(&#x27;encoder&#x27;,\n",
       "                                                                   OneHotEncoder())]),\n",
       "                                                  [&#x27;poutcome&#x27;, &#x27;job&#x27;]),\n",
       "                                                 (&#x27;cat1&#x27;,\n",
       "                                                  Pipeline(steps=[(&#x27;ordinal&#x27;,\n",
       "                                                                   OrdinalEncoder())]),\n",
       "                                                  [&#x27;education&#x27;]),\n",
       "                                                 (&#x27;cat2&#x27;,\n",
       "                                                  Pipeline(steps=[(&#x27;passthrough&#x27;,\n",
       "                                                                   None)]),\n",
       "                                                  [&#x27;housing&#x27;, &#x27;loan&#x27;])])),\n",
       "                (&#x27;classification&#x27;,\n",
       "                 RandomForestClassifier(criterion=&#x27;entropy&#x27;, max_depth=20,\n",
       "                                        min_samples_split=10,\n",
       "                                        n_estimators=50))])</pre></div></div></div><div class=\"sk-serial\"><div class=\"sk-item sk-dashed-wrapped\"><div class=\"sk-label-container\"><div class=\"sk-label sk-toggleable\"><input class=\"sk-toggleable__control sk-hidden--visually\" id=\"sk-estimator-id-18\" type=\"checkbox\" ><label for=\"sk-estimator-id-18\" class=\"sk-toggleable__label sk-toggleable__label-arrow\">preprocess: ColumnTransformer</label><div class=\"sk-toggleable__content\"><pre>ColumnTransformer(transformers=[(&#x27;num&#x27;,\n",
       "                                 Pipeline(steps=[(&#x27;scaler&#x27;, MinMaxScaler())]),\n",
       "                                 [&#x27;pdays&#x27;, &#x27;age&#x27;]),\n",
       "                                (&#x27;num1&#x27;,\n",
       "                                 Pipeline(steps=[(&#x27;outlier&#x27;,\n",
       "                                                  Winsorizer(capping_method=&#x27;iqr&#x27;,\n",
       "                                                             fold=1.5,\n",
       "                                                             tail=&#x27;both&#x27;)),\n",
       "                                                 (&#x27;scaler&#x27;, MinMaxScaler())]),\n",
       "                                 [&#x27;duration&#x27;, &#x27;balance&#x27;]),\n",
       "                                (&#x27;cat&#x27;,\n",
       "                                 Pipeline(steps=[(&#x27;encoder&#x27;, OneHotEncoder())]),\n",
       "                                 [&#x27;poutcome&#x27;, &#x27;job&#x27;]),\n",
       "                                (&#x27;cat1&#x27;,\n",
       "                                 Pipeline(steps=[(&#x27;ordinal&#x27;,\n",
       "                                                  OrdinalEncoder())]),\n",
       "                                 [&#x27;education&#x27;]),\n",
       "                                (&#x27;cat2&#x27;,\n",
       "                                 Pipeline(steps=[(&#x27;passthrough&#x27;, None)]),\n",
       "                                 [&#x27;housing&#x27;, &#x27;loan&#x27;])])</pre></div></div></div><div class=\"sk-parallel\"><div class=\"sk-parallel-item\"><div class=\"sk-item\"><div class=\"sk-label-container\"><div class=\"sk-label sk-toggleable\"><input class=\"sk-toggleable__control sk-hidden--visually\" id=\"sk-estimator-id-19\" type=\"checkbox\" ><label for=\"sk-estimator-id-19\" class=\"sk-toggleable__label sk-toggleable__label-arrow\">num</label><div class=\"sk-toggleable__content\"><pre>[&#x27;pdays&#x27;, &#x27;age&#x27;]</pre></div></div></div><div class=\"sk-serial\"><div class=\"sk-item\"><div class=\"sk-serial\"><div class=\"sk-item\"><div class=\"sk-estimator sk-toggleable\"><input class=\"sk-toggleable__control sk-hidden--visually\" id=\"sk-estimator-id-20\" type=\"checkbox\" ><label for=\"sk-estimator-id-20\" class=\"sk-toggleable__label sk-toggleable__label-arrow\">MinMaxScaler</label><div class=\"sk-toggleable__content\"><pre>MinMaxScaler()</pre></div></div></div></div></div></div></div></div><div class=\"sk-parallel-item\"><div class=\"sk-item\"><div class=\"sk-label-container\"><div class=\"sk-label sk-toggleable\"><input class=\"sk-toggleable__control sk-hidden--visually\" id=\"sk-estimator-id-21\" type=\"checkbox\" ><label for=\"sk-estimator-id-21\" class=\"sk-toggleable__label sk-toggleable__label-arrow\">num1</label><div class=\"sk-toggleable__content\"><pre>[&#x27;duration&#x27;, &#x27;balance&#x27;]</pre></div></div></div><div class=\"sk-serial\"><div class=\"sk-item\"><div class=\"sk-serial\"><div class=\"sk-item\"><div class=\"sk-estimator sk-toggleable\"><input class=\"sk-toggleable__control sk-hidden--visually\" id=\"sk-estimator-id-22\" type=\"checkbox\" ><label for=\"sk-estimator-id-22\" class=\"sk-toggleable__label sk-toggleable__label-arrow\">Winsorizer</label><div class=\"sk-toggleable__content\"><pre>Winsorizer(capping_method=&#x27;iqr&#x27;, fold=1.5, tail=&#x27;both&#x27;)</pre></div></div></div><div class=\"sk-item\"><div class=\"sk-estimator sk-toggleable\"><input class=\"sk-toggleable__control sk-hidden--visually\" id=\"sk-estimator-id-23\" type=\"checkbox\" ><label for=\"sk-estimator-id-23\" class=\"sk-toggleable__label sk-toggleable__label-arrow\">MinMaxScaler</label><div class=\"sk-toggleable__content\"><pre>MinMaxScaler()</pre></div></div></div></div></div></div></div></div><div class=\"sk-parallel-item\"><div class=\"sk-item\"><div class=\"sk-label-container\"><div class=\"sk-label sk-toggleable\"><input class=\"sk-toggleable__control sk-hidden--visually\" id=\"sk-estimator-id-24\" type=\"checkbox\" ><label for=\"sk-estimator-id-24\" class=\"sk-toggleable__label sk-toggleable__label-arrow\">cat</label><div class=\"sk-toggleable__content\"><pre>[&#x27;poutcome&#x27;, &#x27;job&#x27;]</pre></div></div></div><div class=\"sk-serial\"><div class=\"sk-item\"><div class=\"sk-serial\"><div class=\"sk-item\"><div class=\"sk-estimator sk-toggleable\"><input class=\"sk-toggleable__control sk-hidden--visually\" id=\"sk-estimator-id-25\" type=\"checkbox\" ><label for=\"sk-estimator-id-25\" class=\"sk-toggleable__label sk-toggleable__label-arrow\">OneHotEncoder</label><div class=\"sk-toggleable__content\"><pre>OneHotEncoder()</pre></div></div></div></div></div></div></div></div><div class=\"sk-parallel-item\"><div class=\"sk-item\"><div class=\"sk-label-container\"><div class=\"sk-label sk-toggleable\"><input class=\"sk-toggleable__control sk-hidden--visually\" id=\"sk-estimator-id-26\" type=\"checkbox\" ><label for=\"sk-estimator-id-26\" class=\"sk-toggleable__label sk-toggleable__label-arrow\">cat1</label><div class=\"sk-toggleable__content\"><pre>[&#x27;education&#x27;]</pre></div></div></div><div class=\"sk-serial\"><div class=\"sk-item\"><div class=\"sk-serial\"><div class=\"sk-item\"><div class=\"sk-estimator sk-toggleable\"><input class=\"sk-toggleable__control sk-hidden--visually\" id=\"sk-estimator-id-27\" type=\"checkbox\" ><label for=\"sk-estimator-id-27\" class=\"sk-toggleable__label sk-toggleable__label-arrow\">OrdinalEncoder</label><div class=\"sk-toggleable__content\"><pre>OrdinalEncoder()</pre></div></div></div></div></div></div></div></div><div class=\"sk-parallel-item\"><div class=\"sk-item\"><div class=\"sk-label-container\"><div class=\"sk-label sk-toggleable\"><input class=\"sk-toggleable__control sk-hidden--visually\" id=\"sk-estimator-id-28\" type=\"checkbox\" ><label for=\"sk-estimator-id-28\" class=\"sk-toggleable__label sk-toggleable__label-arrow\">cat2</label><div class=\"sk-toggleable__content\"><pre>[&#x27;housing&#x27;, &#x27;loan&#x27;]</pre></div></div></div><div class=\"sk-serial\"><div class=\"sk-item\"><div class=\"sk-serial\"><div class=\"sk-item\"><div class=\"sk-estimator sk-toggleable\"><input class=\"sk-toggleable__control sk-hidden--visually\" id=\"sk-estimator-id-29\" type=\"checkbox\" ><label for=\"sk-estimator-id-29\" class=\"sk-toggleable__label sk-toggleable__label-arrow\">None</label><div class=\"sk-toggleable__content\"><pre>None</pre></div></div></div></div></div></div></div></div></div></div><div class=\"sk-item\"><div class=\"sk-estimator sk-toggleable\"><input class=\"sk-toggleable__control sk-hidden--visually\" id=\"sk-estimator-id-30\" type=\"checkbox\" ><label for=\"sk-estimator-id-30\" class=\"sk-toggleable__label sk-toggleable__label-arrow\">RandomForestClassifier</label><div class=\"sk-toggleable__content\"><pre>RandomForestClassifier(criterion=&#x27;entropy&#x27;, max_depth=20, min_samples_split=10,\n",
       "                       n_estimators=50)</pre></div></div></div></div></div></div></div>"
      ],
      "text/plain": [
       "Pipeline(steps=[('preprocess',\n",
       "                 ColumnTransformer(transformers=[('num',\n",
       "                                                  Pipeline(steps=[('scaler',\n",
       "                                                                   MinMaxScaler())]),\n",
       "                                                  ['pdays', 'age']),\n",
       "                                                 ('num1',\n",
       "                                                  Pipeline(steps=[('outlier',\n",
       "                                                                   Winsorizer(capping_method='iqr',\n",
       "                                                                              fold=1.5,\n",
       "                                                                              tail='both')),\n",
       "                                                                  ('scaler',\n",
       "                                                                   MinMaxScaler())]),\n",
       "                                                  ['duration', 'balance']),\n",
       "                                                 ('cat',\n",
       "                                                  Pipeline(steps=[('encoder',\n",
       "                                                                   OneHotEncoder())]),\n",
       "                                                  ['poutcome', 'job']),\n",
       "                                                 ('cat1',\n",
       "                                                  Pipeline(steps=[('ordinal',\n",
       "                                                                   OrdinalEncoder())]),\n",
       "                                                  ['education']),\n",
       "                                                 ('cat2',\n",
       "                                                  Pipeline(steps=[('passthrough',\n",
       "                                                                   None)]),\n",
       "                                                  ['housing', 'loan'])])),\n",
       "                ('classification',\n",
       "                 RandomForestClassifier(criterion='entropy', max_depth=20,\n",
       "                                        min_samples_split=10,\n",
       "                                        n_estimators=50))])"
      ]
     },
     "execution_count": 63,
     "metadata": {},
     "output_type": "execute_result"
    }
   ],
   "source": [
    "# pipeline akhir dengan semua proses\n",
    "full_process = Pipeline([\n",
    "    (\"preprocess\", full_pipeline),\n",
    "    (\"classification\", rf_model)\n",
    "])\n",
    "\n",
    "full_process"
   ]
  },
  {
   "cell_type": "code",
   "execution_count": 64,
   "metadata": {},
   "outputs": [],
   "source": [
    "# menyimpan pipeline untuk data inference\n",
    "with open('full_process.pkl', 'wb') as file:\n",
    "    pickle.dump((full_process), file)"
   ]
  }
 ],
 "metadata": {
  "kernelspec": {
   "display_name": "base",
   "language": "python",
   "name": "python3"
  },
  "language_info": {
   "codemirror_mode": {
    "name": "ipython",
    "version": 3
   },
   "file_extension": ".py",
   "mimetype": "text/x-python",
   "name": "python",
   "nbconvert_exporter": "python",
   "pygments_lexer": "ipython3",
   "version": "3.9.17"
  },
  "orig_nbformat": 4
 },
 "nbformat": 4,
 "nbformat_minor": 2
}
